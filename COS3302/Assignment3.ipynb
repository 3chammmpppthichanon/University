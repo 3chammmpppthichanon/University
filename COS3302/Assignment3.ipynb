{
 "cells": [
  {
   "cell_type": "markdown",
   "metadata": {
    "id": "VSInS4otYLQf"
   },
   "source": [
    "# Import Libraries"
   ]
  },
  {
   "cell_type": "code",
   "execution_count": 1,
   "metadata": {
    "ExecuteTime": {
     "end_time": "2025-08-16T04:48:11.797599Z",
     "start_time": "2025-08-16T04:48:11.792835Z"
    },
    "executionInfo": {
     "elapsed": 6,
     "status": "ok",
     "timestamp": 1754884306928,
     "user": {
      "displayName": "THICHANON SOMPECH",
      "userId": "06000964609651384785"
     },
     "user_tz": -420
    },
    "id": "sIwn1YGtV1na"
   },
   "outputs": [],
   "source": [
    "import pandas as pd\n",
    "import numpy as np\n",
    "import matplotlib.pyplot as plt\n",
    "import seaborn as sns"
   ]
  },
  {
   "cell_type": "markdown",
   "metadata": {
    "id": "4FBi9MSmYPhT"
   },
   "source": [
    "# Reading CSV"
   ]
  },
  {
   "cell_type": "code",
   "execution_count": 2,
   "metadata": {
    "ExecuteTime": {
     "end_time": "2025-08-16T04:48:11.820753Z",
     "start_time": "2025-08-16T04:48:11.807630Z"
    },
    "colab": {
     "base_uri": "https://localhost:8080/",
     "height": 321
    },
    "executionInfo": {
     "elapsed": 197,
     "status": "error",
     "timestamp": 1754884307128,
     "user": {
      "displayName": "THICHANON SOMPECH",
      "userId": "06000964609651384785"
     },
     "user_tz": -420
    },
    "id": "2q_AZXLqWvAF",
    "outputId": "78bcc89c-c51d-42db-e518-a7de6a22c249"
   },
   "outputs": [
    {
     "data": {
      "text/html": [
       "<div>\n",
       "<style scoped>\n",
       "    .dataframe tbody tr th:only-of-type {\n",
       "        vertical-align: middle;\n",
       "    }\n",
       "\n",
       "    .dataframe tbody tr th {\n",
       "        vertical-align: top;\n",
       "    }\n",
       "\n",
       "    .dataframe thead th {\n",
       "        text-align: right;\n",
       "    }\n",
       "</style>\n",
       "<table border=\"1\" class=\"dataframe\">\n",
       "  <thead>\n",
       "    <tr style=\"text-align: right;\">\n",
       "      <th></th>\n",
       "      <th>0</th>\n",
       "      <th>1</th>\n",
       "      <th>2</th>\n",
       "      <th>3</th>\n",
       "      <th>4</th>\n",
       "      <th>5</th>\n",
       "      <th>6</th>\n",
       "      <th>7</th>\n",
       "    </tr>\n",
       "  </thead>\n",
       "  <tbody>\n",
       "    <tr>\n",
       "      <th>0</th>\n",
       "      <td>15.26</td>\n",
       "      <td>14.84</td>\n",
       "      <td>0.8710</td>\n",
       "      <td>5.763</td>\n",
       "      <td>3.312</td>\n",
       "      <td>2.221</td>\n",
       "      <td>5.220</td>\n",
       "      <td>1</td>\n",
       "    </tr>\n",
       "    <tr>\n",
       "      <th>1</th>\n",
       "      <td>14.88</td>\n",
       "      <td>14.57</td>\n",
       "      <td>0.8811</td>\n",
       "      <td>5.554</td>\n",
       "      <td>3.333</td>\n",
       "      <td>1.018</td>\n",
       "      <td>4.956</td>\n",
       "      <td>1</td>\n",
       "    </tr>\n",
       "    <tr>\n",
       "      <th>2</th>\n",
       "      <td>14.29</td>\n",
       "      <td>14.09</td>\n",
       "      <td>0.9050</td>\n",
       "      <td>5.291</td>\n",
       "      <td>3.337</td>\n",
       "      <td>2.699</td>\n",
       "      <td>4.825</td>\n",
       "      <td>1</td>\n",
       "    </tr>\n",
       "    <tr>\n",
       "      <th>3</th>\n",
       "      <td>13.84</td>\n",
       "      <td>13.94</td>\n",
       "      <td>0.8955</td>\n",
       "      <td>5.324</td>\n",
       "      <td>3.379</td>\n",
       "      <td>2.259</td>\n",
       "      <td>4.805</td>\n",
       "      <td>1</td>\n",
       "    </tr>\n",
       "    <tr>\n",
       "      <th>4</th>\n",
       "      <td>16.14</td>\n",
       "      <td>14.99</td>\n",
       "      <td>0.9034</td>\n",
       "      <td>5.658</td>\n",
       "      <td>3.562</td>\n",
       "      <td>1.355</td>\n",
       "      <td>5.175</td>\n",
       "      <td>1</td>\n",
       "    </tr>\n",
       "  </tbody>\n",
       "</table>\n",
       "</div>"
      ],
      "text/plain": [
       "       0      1       2      3      4      5      6  7\n",
       "0  15.26  14.84  0.8710  5.763  3.312  2.221  5.220  1\n",
       "1  14.88  14.57  0.8811  5.554  3.333  1.018  4.956  1\n",
       "2  14.29  14.09  0.9050  5.291  3.337  2.699  4.825  1\n",
       "3  13.84  13.94  0.8955  5.324  3.379  2.259  4.805  1\n",
       "4  16.14  14.99  0.9034  5.658  3.562  1.355  5.175  1"
      ]
     },
     "execution_count": 2,
     "metadata": {},
     "output_type": "execute_result"
    }
   ],
   "source": [
    "df = pd.read_csv('./wheat-seeds.csv', header = None)\n",
    "df.head()"
   ]
  },
  {
   "cell_type": "markdown",
   "metadata": {
    "id": "Vsp_LduyYZfR"
   },
   "source": [
    "## Adding column names"
   ]
  },
  {
   "cell_type": "code",
   "execution_count": 3,
   "metadata": {
    "ExecuteTime": {
     "end_time": "2025-08-16T04:48:11.840770Z",
     "start_time": "2025-08-16T04:48:11.836581Z"
    },
    "executionInfo": {
     "elapsed": 603,
     "status": "aborted",
     "timestamp": 1754884307153,
     "user": {
      "displayName": "THICHANON SOMPECH",
      "userId": "06000964609651384785"
     },
     "user_tz": -420
    },
    "id": "vqzp7PYMYf9L"
   },
   "outputs": [],
   "source": [
    "df.columns = ['Area','Perimeter','Compactness','LengthOfKernel','WidthOfKernel',\n",
    "              'AsymmetryCoefficient','LengthOfKernelGroove','SeedType']"
   ]
  },
  {
   "cell_type": "code",
   "execution_count": 4,
   "metadata": {
    "ExecuteTime": {
     "end_time": "2025-08-16T04:48:11.858556Z",
     "start_time": "2025-08-16T04:48:11.848713Z"
    },
    "executionInfo": {
     "elapsed": 2,
     "status": "aborted",
     "timestamp": 1754884307255,
     "user": {
      "displayName": "THICHANON SOMPECH",
      "userId": "06000964609651384785"
     },
     "user_tz": -420
    },
    "id": "zWuQnDMuY1Em"
   },
   "outputs": [
    {
     "data": {
      "text/html": [
       "<div>\n",
       "<style scoped>\n",
       "    .dataframe tbody tr th:only-of-type {\n",
       "        vertical-align: middle;\n",
       "    }\n",
       "\n",
       "    .dataframe tbody tr th {\n",
       "        vertical-align: top;\n",
       "    }\n",
       "\n",
       "    .dataframe thead th {\n",
       "        text-align: right;\n",
       "    }\n",
       "</style>\n",
       "<table border=\"1\" class=\"dataframe\">\n",
       "  <thead>\n",
       "    <tr style=\"text-align: right;\">\n",
       "      <th></th>\n",
       "      <th>Area</th>\n",
       "      <th>Perimeter</th>\n",
       "      <th>Compactness</th>\n",
       "      <th>LengthOfKernel</th>\n",
       "      <th>WidthOfKernel</th>\n",
       "      <th>AsymmetryCoefficient</th>\n",
       "      <th>LengthOfKernelGroove</th>\n",
       "      <th>SeedType</th>\n",
       "    </tr>\n",
       "  </thead>\n",
       "  <tbody>\n",
       "    <tr>\n",
       "      <th>0</th>\n",
       "      <td>15.26</td>\n",
       "      <td>14.84</td>\n",
       "      <td>0.8710</td>\n",
       "      <td>5.763</td>\n",
       "      <td>3.312</td>\n",
       "      <td>2.221</td>\n",
       "      <td>5.220</td>\n",
       "      <td>1</td>\n",
       "    </tr>\n",
       "    <tr>\n",
       "      <th>1</th>\n",
       "      <td>14.88</td>\n",
       "      <td>14.57</td>\n",
       "      <td>0.8811</td>\n",
       "      <td>5.554</td>\n",
       "      <td>3.333</td>\n",
       "      <td>1.018</td>\n",
       "      <td>4.956</td>\n",
       "      <td>1</td>\n",
       "    </tr>\n",
       "    <tr>\n",
       "      <th>2</th>\n",
       "      <td>14.29</td>\n",
       "      <td>14.09</td>\n",
       "      <td>0.9050</td>\n",
       "      <td>5.291</td>\n",
       "      <td>3.337</td>\n",
       "      <td>2.699</td>\n",
       "      <td>4.825</td>\n",
       "      <td>1</td>\n",
       "    </tr>\n",
       "    <tr>\n",
       "      <th>3</th>\n",
       "      <td>13.84</td>\n",
       "      <td>13.94</td>\n",
       "      <td>0.8955</td>\n",
       "      <td>5.324</td>\n",
       "      <td>3.379</td>\n",
       "      <td>2.259</td>\n",
       "      <td>4.805</td>\n",
       "      <td>1</td>\n",
       "    </tr>\n",
       "    <tr>\n",
       "      <th>4</th>\n",
       "      <td>16.14</td>\n",
       "      <td>14.99</td>\n",
       "      <td>0.9034</td>\n",
       "      <td>5.658</td>\n",
       "      <td>3.562</td>\n",
       "      <td>1.355</td>\n",
       "      <td>5.175</td>\n",
       "      <td>1</td>\n",
       "    </tr>\n",
       "  </tbody>\n",
       "</table>\n",
       "</div>"
      ],
      "text/plain": [
       "    Area  Perimeter  Compactness  LengthOfKernel  WidthOfKernel  \\\n",
       "0  15.26      14.84       0.8710           5.763          3.312   \n",
       "1  14.88      14.57       0.8811           5.554          3.333   \n",
       "2  14.29      14.09       0.9050           5.291          3.337   \n",
       "3  13.84      13.94       0.8955           5.324          3.379   \n",
       "4  16.14      14.99       0.9034           5.658          3.562   \n",
       "\n",
       "   AsymmetryCoefficient  LengthOfKernelGroove  SeedType  \n",
       "0                 2.221                 5.220         1  \n",
       "1                 1.018                 4.956         1  \n",
       "2                 2.699                 4.825         1  \n",
       "3                 2.259                 4.805         1  \n",
       "4                 1.355                 5.175         1  "
      ]
     },
     "execution_count": 4,
     "metadata": {},
     "output_type": "execute_result"
    }
   ],
   "source": [
    "df.head()"
   ]
  },
  {
   "cell_type": "markdown",
   "metadata": {
    "id": "LbcGRvFgY69W"
   },
   "source": [
    "## Checking for missing data"
   ]
  },
  {
   "cell_type": "code",
   "execution_count": 5,
   "metadata": {
    "ExecuteTime": {
     "end_time": "2025-08-16T04:48:11.881974Z",
     "start_time": "2025-08-16T04:48:11.873848Z"
    },
    "executionInfo": {
     "elapsed": 703,
     "status": "aborted",
     "timestamp": 1754884307257,
     "user": {
      "displayName": "THICHANON SOMPECH",
      "userId": "06000964609651384785"
     },
     "user_tz": -420
    },
    "id": "Z9i2UQdzY1zn"
   },
   "outputs": [
    {
     "data": {
      "text/html": [
       "<div>\n",
       "<style scoped>\n",
       "    .dataframe tbody tr th:only-of-type {\n",
       "        vertical-align: middle;\n",
       "    }\n",
       "\n",
       "    .dataframe tbody tr th {\n",
       "        vertical-align: top;\n",
       "    }\n",
       "\n",
       "    .dataframe thead th {\n",
       "        text-align: right;\n",
       "    }\n",
       "</style>\n",
       "<table border=\"1\" class=\"dataframe\">\n",
       "  <thead>\n",
       "    <tr style=\"text-align: right;\">\n",
       "      <th></th>\n",
       "      <th>Null Data</th>\n",
       "    </tr>\n",
       "  </thead>\n",
       "  <tbody>\n",
       "    <tr>\n",
       "      <th>Area</th>\n",
       "      <td>0</td>\n",
       "    </tr>\n",
       "    <tr>\n",
       "      <th>Perimeter</th>\n",
       "      <td>0</td>\n",
       "    </tr>\n",
       "    <tr>\n",
       "      <th>Compactness</th>\n",
       "      <td>0</td>\n",
       "    </tr>\n",
       "    <tr>\n",
       "      <th>LengthOfKernel</th>\n",
       "      <td>0</td>\n",
       "    </tr>\n",
       "    <tr>\n",
       "      <th>WidthOfKernel</th>\n",
       "      <td>0</td>\n",
       "    </tr>\n",
       "    <tr>\n",
       "      <th>AsymmetryCoefficient</th>\n",
       "      <td>0</td>\n",
       "    </tr>\n",
       "    <tr>\n",
       "      <th>LengthOfKernelGroove</th>\n",
       "      <td>0</td>\n",
       "    </tr>\n",
       "    <tr>\n",
       "      <th>SeedType</th>\n",
       "      <td>0</td>\n",
       "    </tr>\n",
       "  </tbody>\n",
       "</table>\n",
       "</div>"
      ],
      "text/plain": [
       "                      Null Data\n",
       "Area                          0\n",
       "Perimeter                     0\n",
       "Compactness                   0\n",
       "LengthOfKernel                0\n",
       "WidthOfKernel                 0\n",
       "AsymmetryCoefficient          0\n",
       "LengthOfKernelGroove          0\n",
       "SeedType                      0"
      ]
     },
     "execution_count": 5,
     "metadata": {},
     "output_type": "execute_result"
    }
   ],
   "source": [
    "nulldata = pd.DataFrame(df.isnull().sum(),columns=['Null Data'])\n",
    "nulldata"
   ]
  },
  {
   "cell_type": "markdown",
   "metadata": {},
   "source": [
    "## Exploratory Data Analysis"
   ]
  },
  {
   "cell_type": "code",
   "execution_count": 6,
   "metadata": {
    "ExecuteTime": {
     "end_time": "2025-08-16T04:48:11.897071Z",
     "start_time": "2025-08-16T04:48:11.892186Z"
    },
    "executionInfo": {
     "elapsed": 702,
     "status": "aborted",
     "timestamp": 1754884307258,
     "user": {
      "displayName": "THICHANON SOMPECH",
      "userId": "06000964609651384785"
     },
     "user_tz": -420
    },
    "id": "ICf6fx16ZuKk"
   },
   "outputs": [
    {
     "data": {
      "text/plain": [
       "(210, 8)"
      ]
     },
     "execution_count": 6,
     "metadata": {},
     "output_type": "execute_result"
    }
   ],
   "source": [
    "df.shape"
   ]
  },
  {
   "cell_type": "code",
   "execution_count": 7,
   "metadata": {
    "ExecuteTime": {
     "end_time": "2025-08-16T04:48:11.922999Z",
     "start_time": "2025-08-16T04:48:11.916241Z"
    },
    "executionInfo": {
     "elapsed": 703,
     "status": "aborted",
     "timestamp": 1754884307260,
     "user": {
      "displayName": "THICHANON SOMPECH",
      "userId": "06000964609651384785"
     },
     "user_tz": -420
    },
    "id": "29OOmNI7ZwDz"
   },
   "outputs": [
    {
     "name": "stdout",
     "output_type": "stream",
     "text": [
      "<class 'pandas.core.frame.DataFrame'>\n",
      "RangeIndex: 210 entries, 0 to 209\n",
      "Data columns (total 8 columns):\n",
      " #   Column                Non-Null Count  Dtype  \n",
      "---  ------                --------------  -----  \n",
      " 0   Area                  210 non-null    float64\n",
      " 1   Perimeter             210 non-null    float64\n",
      " 2   Compactness           210 non-null    float64\n",
      " 3   LengthOfKernel        210 non-null    float64\n",
      " 4   WidthOfKernel         210 non-null    float64\n",
      " 5   AsymmetryCoefficient  210 non-null    float64\n",
      " 6   LengthOfKernelGroove  210 non-null    float64\n",
      " 7   SeedType              210 non-null    int64  \n",
      "dtypes: float64(7), int64(1)\n",
      "memory usage: 13.3 KB\n"
     ]
    }
   ],
   "source": [
    "df.info()"
   ]
  },
  {
   "cell_type": "code",
   "execution_count": 8,
   "metadata": {
    "ExecuteTime": {
     "end_time": "2025-08-16T04:48:11.942105Z",
     "start_time": "2025-08-16T04:48:11.936066Z"
    },
    "executionInfo": {
     "elapsed": 703,
     "status": "aborted",
     "timestamp": 1754884307262,
     "user": {
      "displayName": "THICHANON SOMPECH",
      "userId": "06000964609651384785"
     },
     "user_tz": -420
    },
    "id": "mm8qWRl6Zxcf"
   },
   "outputs": [
    {
     "data": {
      "text/plain": [
       "SeedType\n",
       "1    70\n",
       "2    70\n",
       "3    70\n",
       "Name: count, dtype: int64"
      ]
     },
     "execution_count": 8,
     "metadata": {},
     "output_type": "execute_result"
    }
   ],
   "source": [
    "df['SeedType'].value_counts()"
   ]
  },
  {
   "cell_type": "code",
   "execution_count": 9,
   "metadata": {
    "ExecuteTime": {
     "end_time": "2025-08-16T04:48:11.971714Z",
     "start_time": "2025-08-16T04:48:11.951361Z"
    },
    "executionInfo": {
     "elapsed": 703,
     "status": "aborted",
     "timestamp": 1754884307263,
     "user": {
      "displayName": "THICHANON SOMPECH",
      "userId": "06000964609651384785"
     },
     "user_tz": -420
    },
    "id": "v_9H5JsBa9dH"
   },
   "outputs": [
    {
     "data": {
      "text/html": [
       "<div>\n",
       "<style scoped>\n",
       "    .dataframe tbody tr th:only-of-type {\n",
       "        vertical-align: middle;\n",
       "    }\n",
       "\n",
       "    .dataframe tbody tr th {\n",
       "        vertical-align: top;\n",
       "    }\n",
       "\n",
       "    .dataframe thead th {\n",
       "        text-align: right;\n",
       "    }\n",
       "</style>\n",
       "<table border=\"1\" class=\"dataframe\">\n",
       "  <thead>\n",
       "    <tr style=\"text-align: right;\">\n",
       "      <th></th>\n",
       "      <th>Area</th>\n",
       "      <th>Perimeter</th>\n",
       "      <th>Compactness</th>\n",
       "      <th>LengthOfKernel</th>\n",
       "      <th>WidthOfKernel</th>\n",
       "      <th>AsymmetryCoefficient</th>\n",
       "      <th>LengthOfKernelGroove</th>\n",
       "      <th>SeedType</th>\n",
       "    </tr>\n",
       "  </thead>\n",
       "  <tbody>\n",
       "    <tr>\n",
       "      <th>count</th>\n",
       "      <td>210.000000</td>\n",
       "      <td>210.000000</td>\n",
       "      <td>210.000000</td>\n",
       "      <td>210.000000</td>\n",
       "      <td>210.000000</td>\n",
       "      <td>210.000000</td>\n",
       "      <td>210.000000</td>\n",
       "      <td>210.000000</td>\n",
       "    </tr>\n",
       "    <tr>\n",
       "      <th>mean</th>\n",
       "      <td>14.847524</td>\n",
       "      <td>14.559286</td>\n",
       "      <td>0.870999</td>\n",
       "      <td>5.628533</td>\n",
       "      <td>3.258605</td>\n",
       "      <td>3.700201</td>\n",
       "      <td>5.408071</td>\n",
       "      <td>2.000000</td>\n",
       "    </tr>\n",
       "    <tr>\n",
       "      <th>std</th>\n",
       "      <td>2.909699</td>\n",
       "      <td>1.305959</td>\n",
       "      <td>0.023629</td>\n",
       "      <td>0.443063</td>\n",
       "      <td>0.377714</td>\n",
       "      <td>1.503557</td>\n",
       "      <td>0.491480</td>\n",
       "      <td>0.818448</td>\n",
       "    </tr>\n",
       "    <tr>\n",
       "      <th>min</th>\n",
       "      <td>10.590000</td>\n",
       "      <td>12.410000</td>\n",
       "      <td>0.808100</td>\n",
       "      <td>4.899000</td>\n",
       "      <td>2.630000</td>\n",
       "      <td>0.765100</td>\n",
       "      <td>4.519000</td>\n",
       "      <td>1.000000</td>\n",
       "    </tr>\n",
       "    <tr>\n",
       "      <th>25%</th>\n",
       "      <td>12.270000</td>\n",
       "      <td>13.450000</td>\n",
       "      <td>0.856900</td>\n",
       "      <td>5.262250</td>\n",
       "      <td>2.944000</td>\n",
       "      <td>2.561500</td>\n",
       "      <td>5.045000</td>\n",
       "      <td>1.000000</td>\n",
       "    </tr>\n",
       "    <tr>\n",
       "      <th>50%</th>\n",
       "      <td>14.355000</td>\n",
       "      <td>14.320000</td>\n",
       "      <td>0.873450</td>\n",
       "      <td>5.523500</td>\n",
       "      <td>3.237000</td>\n",
       "      <td>3.599000</td>\n",
       "      <td>5.223000</td>\n",
       "      <td>2.000000</td>\n",
       "    </tr>\n",
       "    <tr>\n",
       "      <th>75%</th>\n",
       "      <td>17.305000</td>\n",
       "      <td>15.715000</td>\n",
       "      <td>0.887775</td>\n",
       "      <td>5.979750</td>\n",
       "      <td>3.561750</td>\n",
       "      <td>4.768750</td>\n",
       "      <td>5.877000</td>\n",
       "      <td>3.000000</td>\n",
       "    </tr>\n",
       "    <tr>\n",
       "      <th>max</th>\n",
       "      <td>21.180000</td>\n",
       "      <td>17.250000</td>\n",
       "      <td>0.918300</td>\n",
       "      <td>6.675000</td>\n",
       "      <td>4.033000</td>\n",
       "      <td>8.456000</td>\n",
       "      <td>6.550000</td>\n",
       "      <td>3.000000</td>\n",
       "    </tr>\n",
       "  </tbody>\n",
       "</table>\n",
       "</div>"
      ],
      "text/plain": [
       "             Area   Perimeter  Compactness  LengthOfKernel  WidthOfKernel  \\\n",
       "count  210.000000  210.000000   210.000000      210.000000     210.000000   \n",
       "mean    14.847524   14.559286     0.870999        5.628533       3.258605   \n",
       "std      2.909699    1.305959     0.023629        0.443063       0.377714   \n",
       "min     10.590000   12.410000     0.808100        4.899000       2.630000   \n",
       "25%     12.270000   13.450000     0.856900        5.262250       2.944000   \n",
       "50%     14.355000   14.320000     0.873450        5.523500       3.237000   \n",
       "75%     17.305000   15.715000     0.887775        5.979750       3.561750   \n",
       "max     21.180000   17.250000     0.918300        6.675000       4.033000   \n",
       "\n",
       "       AsymmetryCoefficient  LengthOfKernelGroove    SeedType  \n",
       "count            210.000000            210.000000  210.000000  \n",
       "mean               3.700201              5.408071    2.000000  \n",
       "std                1.503557              0.491480    0.818448  \n",
       "min                0.765100              4.519000    1.000000  \n",
       "25%                2.561500              5.045000    1.000000  \n",
       "50%                3.599000              5.223000    2.000000  \n",
       "75%                4.768750              5.877000    3.000000  \n",
       "max                8.456000              6.550000    3.000000  "
      ]
     },
     "execution_count": 9,
     "metadata": {},
     "output_type": "execute_result"
    }
   ],
   "source": [
    "df.describe()"
   ]
  },
  {
   "cell_type": "markdown",
   "metadata": {},
   "source": [
    "## Calculate basic statistical"
   ]
  },
  {
   "cell_type": "code",
   "execution_count": 10,
   "metadata": {},
   "outputs": [],
   "source": [
    "numerical_cols = ['Area', 'Perimeter', 'Compactness', 'LengthOfKernel', \n",
    "                 'WidthOfKernel', 'AsymmetryCoefficient', 'LengthOfKernelGroove']"
   ]
  },
  {
   "cell_type": "code",
   "execution_count": 11,
   "metadata": {},
   "outputs": [],
   "source": [
    "stats = {}"
   ]
  },
  {
   "cell_type": "code",
   "execution_count": 12,
   "metadata": {},
   "outputs": [],
   "source": [
    "for col in numerical_cols:\n",
    "    stats[col] = {\n",
    "        'Range': df[col].max() - df[col].min(),\n",
    "        'Min': df[col].min(),\n",
    "        'Max': df[col].max(), \n",
    "        'Mean': df[col].mean(),\n",
    "        'Median': df[col].median(),\n",
    "        'Mode': df[col].mode()[0],\n",
    "        'Std Dev': df[col].std()\n",
    "    }"
   ]
  },
  {
   "cell_type": "code",
   "execution_count": 13,
   "metadata": {},
   "outputs": [
    {
     "data": {
      "text/html": [
       "<div>\n",
       "<style scoped>\n",
       "    .dataframe tbody tr th:only-of-type {\n",
       "        vertical-align: middle;\n",
       "    }\n",
       "\n",
       "    .dataframe tbody tr th {\n",
       "        vertical-align: top;\n",
       "    }\n",
       "\n",
       "    .dataframe thead th {\n",
       "        text-align: right;\n",
       "    }\n",
       "</style>\n",
       "<table border=\"1\" class=\"dataframe\">\n",
       "  <thead>\n",
       "    <tr style=\"text-align: right;\">\n",
       "      <th></th>\n",
       "      <th>Area</th>\n",
       "      <th>Perimeter</th>\n",
       "      <th>Compactness</th>\n",
       "      <th>LengthOfKernel</th>\n",
       "      <th>WidthOfKernel</th>\n",
       "      <th>AsymmetryCoefficient</th>\n",
       "      <th>LengthOfKernelGroove</th>\n",
       "    </tr>\n",
       "  </thead>\n",
       "  <tbody>\n",
       "    <tr>\n",
       "      <th>Range</th>\n",
       "      <td>10.5900</td>\n",
       "      <td>4.8400</td>\n",
       "      <td>0.1102</td>\n",
       "      <td>1.7760</td>\n",
       "      <td>1.4030</td>\n",
       "      <td>7.6909</td>\n",
       "      <td>2.0310</td>\n",
       "    </tr>\n",
       "    <tr>\n",
       "      <th>Min</th>\n",
       "      <td>10.5900</td>\n",
       "      <td>12.4100</td>\n",
       "      <td>0.8081</td>\n",
       "      <td>4.8990</td>\n",
       "      <td>2.6300</td>\n",
       "      <td>0.7651</td>\n",
       "      <td>4.5190</td>\n",
       "    </tr>\n",
       "    <tr>\n",
       "      <th>Max</th>\n",
       "      <td>21.1800</td>\n",
       "      <td>17.2500</td>\n",
       "      <td>0.9183</td>\n",
       "      <td>6.6750</td>\n",
       "      <td>4.0330</td>\n",
       "      <td>8.4560</td>\n",
       "      <td>6.5500</td>\n",
       "    </tr>\n",
       "    <tr>\n",
       "      <th>Mean</th>\n",
       "      <td>14.8475</td>\n",
       "      <td>14.5593</td>\n",
       "      <td>0.8710</td>\n",
       "      <td>5.6285</td>\n",
       "      <td>3.2586</td>\n",
       "      <td>3.7002</td>\n",
       "      <td>5.4081</td>\n",
       "    </tr>\n",
       "    <tr>\n",
       "      <th>Median</th>\n",
       "      <td>14.3550</td>\n",
       "      <td>14.3200</td>\n",
       "      <td>0.8734</td>\n",
       "      <td>5.5235</td>\n",
       "      <td>3.2370</td>\n",
       "      <td>3.5990</td>\n",
       "      <td>5.2230</td>\n",
       "    </tr>\n",
       "    <tr>\n",
       "      <th>Mode</th>\n",
       "      <td>11.2300</td>\n",
       "      <td>13.4700</td>\n",
       "      <td>0.8823</td>\n",
       "      <td>5.2360</td>\n",
       "      <td>3.0260</td>\n",
       "      <td>2.1290</td>\n",
       "      <td>5.0010</td>\n",
       "    </tr>\n",
       "    <tr>\n",
       "      <th>Std Dev</th>\n",
       "      <td>2.9097</td>\n",
       "      <td>1.3060</td>\n",
       "      <td>0.0236</td>\n",
       "      <td>0.4431</td>\n",
       "      <td>0.3777</td>\n",
       "      <td>1.5036</td>\n",
       "      <td>0.4915</td>\n",
       "    </tr>\n",
       "  </tbody>\n",
       "</table>\n",
       "</div>"
      ],
      "text/plain": [
       "            Area  Perimeter  Compactness  LengthOfKernel  WidthOfKernel  \\\n",
       "Range    10.5900     4.8400       0.1102          1.7760         1.4030   \n",
       "Min      10.5900    12.4100       0.8081          4.8990         2.6300   \n",
       "Max      21.1800    17.2500       0.9183          6.6750         4.0330   \n",
       "Mean     14.8475    14.5593       0.8710          5.6285         3.2586   \n",
       "Median   14.3550    14.3200       0.8734          5.5235         3.2370   \n",
       "Mode     11.2300    13.4700       0.8823          5.2360         3.0260   \n",
       "Std Dev   2.9097     1.3060       0.0236          0.4431         0.3777   \n",
       "\n",
       "         AsymmetryCoefficient  LengthOfKernelGroove  \n",
       "Range                  7.6909                2.0310  \n",
       "Min                    0.7651                4.5190  \n",
       "Max                    8.4560                6.5500  \n",
       "Mean                   3.7002                5.4081  \n",
       "Median                 3.5990                5.2230  \n",
       "Mode                   2.1290                5.0010  \n",
       "Std Dev                1.5036                0.4915  "
      ]
     },
     "execution_count": 13,
     "metadata": {},
     "output_type": "execute_result"
    }
   ],
   "source": [
    "stats_df = pd.DataFrame(stats).round(4)\n",
    "stats_df"
   ]
  },
  {
   "cell_type": "code",
   "execution_count": 14,
   "metadata": {
    "ExecuteTime": {
     "end_time": "2025-08-16T04:48:12.714417Z",
     "start_time": "2025-08-16T04:48:11.984513Z"
    }
   },
   "outputs": [
    {
     "data": {
      "image/png": "[encoded data removed]",
      "text/plain": [
       "<Figure size 1500x1500 with 9 Axes>"
      ]
     },
     "metadata": {},
     "output_type": "display_data"
    }
   ],
   "source": [
    "df.hist(figsize=(15,15))\n",
    "plt.show()"
   ]
  }
 ],
 "metadata": {
  "colab": {
   "authorship_tag": "ABX9TyOOsTqbFoeHMjWWygfNiVaW",
   "provenance": []
  },
  "kernelspec": {
   "display_name": "Python 3",
   "language": "python",
   "name": "python3"
  },
  "language_info": {
   "codemirror_mode": {
    "name": "ipython",
    "version": 3
   },
   "file_extension": ".py",
   "mimetype": "text/x-python",
   "name": "python",
   "nbconvert_exporter": "python",
   "pygments_lexer": "ipython3",
   "version": "3.13.3"
  }
 },
 "nbformat": 4,
 "nbformat_minor": 0
}
