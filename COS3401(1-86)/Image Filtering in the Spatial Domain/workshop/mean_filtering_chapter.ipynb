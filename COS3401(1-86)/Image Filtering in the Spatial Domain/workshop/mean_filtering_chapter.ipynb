{
 "cells": [
  {
   "cell_type": "code",
   "execution_count": 1,
   "id": "71631d16",
   "metadata": {},
   "outputs": [],
   "source": [
    "import cv2\n",
    "import numpy as np\n",
    "import matplotlib.pyplot as plt"
   ]
  },
  {
   "cell_type": "code",
   "execution_count": 2,
   "id": "6cc0e3c5",
   "metadata": {},
   "outputs": [],
   "source": [
    "def plt_show(img):\n",
    "    plt.axis('off')\n",
    "    plt.imshow(img, cmap='gray')\n",
    "    plt.show()"
   ]
  },
  {
   "cell_type": "code",
   "execution_count": 3,
   "id": "9d9aabb8",
   "metadata": {},
   "outputs": [],
   "source": [
    "def cv_show(img):\n",
    "    cv2.imshow(\"Mean Filtered Image\", img)\n",
    "    cv2.waitKey(0)\n",
    "    cv2.destroyAllWindows()"
   ]
  },
  {
   "cell_type": "code",
   "execution_count": 4,
   "id": "120a395c",
   "metadata": {},
   "outputs": [],
   "source": [
    "def Blur(img, k):\n",
    "    return cv2.blur(img, (k, k)).astype(np.uint8)"
   ]
  },
  {
   "cell_type": "code",
   "execution_count": 5,
   "id": "b85e96e9",
   "metadata": {},
   "outputs": [],
   "source": [
    "def filterImage(img, k):\n",
    "    mask = np.ones([k, k], dtype='float16') / 9\n",
    "    #mask = np.array([[1,2,1], [2,4,2], [1,2,1]], dtype='float16)\n",
    "    #mask = mask/16\n",
    "    return cv2.filter2D(img, -1, mask)"
   ]
  },
  {
   "cell_type": "code",
   "execution_count": 6,
   "id": "ee5cb7ff",
   "metadata": {},
   "outputs": [
    {
     "name": "stdout",
     "output_type": "stream",
     "text": [
      "[[162 162   0 ... 170 155 128]\n",
      " [162 255 162 ... 170 155 128]\n",
      " [162 162 162 ... 170 155 128]\n",
      " ...\n",
      " [ 43  43  50 ... 104 100  98]\n",
      " [ 44  44  55 ... 104 105 108]\n",
      " [ 44  44  55 ... 104 105 108]]\n"
     ]
    }
   ],
   "source": [
    "gray = cv2.imread(\"../../images/lena_salt_512.png\", 0)\n",
    "print(gray)"
   ]
  },
  {
   "cell_type": "code",
   "execution_count": 12,
   "id": "9349d51d",
   "metadata": {},
   "outputs": [],
   "source": [
    "blur_img = Blur(gray, 5)\n",
    "#blur_img = cv2.blur(gray, (3,3)).astype(np.uint8)\n",
    "imgs = cv2.hconcat([gray, blur_img])\n",
    "cv_show(imgs)"
   ]
  },
  {
   "cell_type": "code",
   "execution_count": 8,
   "id": "71fa5789",
   "metadata": {},
   "outputs": [],
   "source": [
    "def filterImage(img, k):\n",
    "    #mask = np.ones([k, k], dtype = 'float16)/ (k**2)\n",
    "    mask = np.array([[1,2,1],[2,4,2],[1,2,1]], dtype='float16')     \n",
    "    mask = mask/16\n",
    "    return cv2.filter2D(img, -1, mask).astype(np.unit8)"
   ]
  },
  {
   "cell_type": "code",
   "execution_count": 13,
   "id": "6ca5ad7f",
   "metadata": {},
   "outputs": [],
   "source": [
    "def filterCustom(img, k):\n",
    "    mask = np.ones([k,k], dtype = 'float16')/ (k**2)\n",
    "    #mask = np.array([[1,2,1],[2,4,2],[1,2,1]], dtype='float16')     \n",
    "    #mask = mask/16\n",
    "    (m,n) = img.shape\n",
    "    #out = np.zeros((m,n), dtype = 'float16')\n",
    "    #out = np.zeros_like(img, dtype = 'float')\n",
    "    out = img.copy()\n",
    "    bd = int(k/2)\n",
    "    for i in range(bd,m-bd):\n",
    "        for j in range(bd,n-bd):\n",
    "            sub_f = img[i - bd : i + bd + 1, j - bd : j + bd + 1].astype(np.float16)\n",
    "            out[i, j] = np.multiply(sub_f, mask).sum()    \n",
    "    return out.astype(np.uint8)"
   ]
  },
  {
   "cell_type": "code",
   "execution_count": 14,
   "id": "071e5bbe",
   "metadata": {},
   "outputs": [],
   "source": [
    "blur_img = filterCustom(gray, 7)\n",
    "imgs = cv2.hconcat([gray, blur_img])\n",
    "cv_show(imgs)"
   ]
  },
  {
   "cell_type": "markdown",
   "id": "7db8712f",
   "metadata": {},
   "source": []
  }
 ],
 "metadata": {
  "kernelspec": {
   "display_name": "Python 3",
   "language": "python",
   "name": "python3"
  },
  "language_info": {
   "codemirror_mode": {
    "name": "ipython",
    "version": 3
   },
   "file_extension": ".py",
   "mimetype": "text/x-python",
   "name": "python",
   "nbconvert_exporter": "python",
   "pygments_lexer": "ipython3",
   "version": "3.13.7"
  }
 },
 "nbformat": 4,
 "nbformat_minor": 5
}
