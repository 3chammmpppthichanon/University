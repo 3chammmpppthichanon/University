{
 "cells": [
  {
   "attachments": {},
   "cell_type": "markdown",
   "metadata": {},
   "source": [
    "## Python JSON\n",
    "JSON (JavaScript Object Notation) is a popular data format used for representing structured data. It's common to transmit and receive data between a server and web application in JSON format."
   ]
  },
  {
   "attachments": {},
   "cell_type": "markdown",
   "metadata": {},
   "source": [
    "https://www.learningcontainer.com/sample-json-file/"
   ]
  },
  {
   "attachments": {},
   "cell_type": "markdown",
   "metadata": {},
   "source": [
    "## Import json Module\n",
    "It's also common to store a JSON object in a file. To work with JSON , you can use Python's json module. You need to import the module before you can use it."
   ]
  },
  {
   "cell_type": "code",
   "execution_count": 1,
   "metadata": {},
   "outputs": [],
   "source": [
    "import json"
   ]
  },
  {
   "cell_type": "code",
   "execution_count": 3,
   "metadata": {},
   "outputs": [
    {
     "name": "stdout",
     "output_type": "stream",
     "text": [
      "{\"name\": \"Bob\", \"languages\": [\"English\", \"French\"]}\n",
      "{'name': 'Bob', 'languages': ['English', 'French']} ['English', 'French']\n"
     ]
    }
   ],
   "source": [
    "info = '{\"name\": \"Bob\", \"languages\": [\"English\", \"French\"]}'\n",
    "info_dict = json.loads(info)\n",
    "print(info)\n",
    "print(info_dict)\n",
    "print(info_dict['languages'])"
   ]
  },
  {
   "attachments": {},
   "cell_type": "markdown",
   "metadata": {},
   "source": [
    "## Python read JSON file\n",
    "Use json.load() method to read a file containing JSON object"
   ]
  },
  {
   "cell_type": "code",
   "execution_count": 5,
   "metadata": {},
   "outputs": [
    {
     "name": "stdout",
     "output_type": "stream",
     "text": [
      "{'firstName': 'Rack', 'lastName': 'Jackon', 'gender': 'man', 'age': 24, 'address': {'streetAddress': '126', 'city': 'San Jone', 'state': 'CA', 'postalCode': '394221'}, 'phoneNumbers': [{'type': 'home', 'number': '7383627627'}]}\n",
      "<class 'dict'>\n"
     ]
    }
   ],
   "source": [
    "with open('info.json', 'r') as fp:\n",
    "  data = json.load(fp)\n",
    "  print(data)\n",
    "  print(type(data))"
   ]
  },
  {
   "attachments": {},
   "cell_type": "markdown",
   "metadata": {},
   "source": [
    "## Convert to JSON string and "
   ]
  },
  {
   "cell_type": "code",
   "execution_count": 8,
   "metadata": {},
   "outputs": [
    {
     "name": "stdout",
     "output_type": "stream",
     "text": [
      "{'firstName': 'Rack', 'lastName': 'Jackon', 'gender': 'man', 'age': 24, 'address': {'streetAddress': '126', 'city': 'San Jone', 'state': 'CA', 'postalCode': '394221'}, 'phoneNumbers': [{'type': 'home', 'number': '7383627627'}]}\n",
      "{\"firstName\": \"Rack\", \"lastName\": \"Jackon\", \"gender\": \"man\", \"age\": 24, \"address\": {\"streetAddress\": \"126\", \"city\": \"San Jone\", \"state\": \"CA\", \"postalCode\": \"394221\"}, \"phoneNumbers\": [{\"type\": \"home\", \"number\": \"7383627627\"}]}\n",
      "{'firstName': 'Rack', 'lastName': 'Jackon', 'gender': 'man', 'age': 24, 'address': {'streetAddress': '126', 'city': 'San Jone', 'state': 'CA', 'postalCode': '394221'}, 'phoneNumbers': [{'type': 'home', 'number': '7383627627'}]}\n"
     ]
    }
   ],
   "source": [
    "with open('info.json', 'r') as fp:\n",
    "  data = json.load(fp)\n",
    "  data_str = json.dumps(data)\n",
    "  print(data)\n",
    "  print(data_str)\n",
    "  data_dict = json.loads(data_str)\n",
    "  print(data_dict)\n",
    "  "
   ]
  },
  {
   "attachments": {},
   "cell_type": "markdown",
   "metadata": {},
   "source": [
    "## Writing JSON to a file"
   ]
  },
  {
   "cell_type": "code",
   "execution_count": 11,
   "metadata": {},
   "outputs": [],
   "source": [
    "person_dict = {\"name\": \"Apirak\", \"languages\": [\"THAI\", \"ENGLISG\"], \"married\": True, \"age\": 32}\n",
    "\n",
    "with open('person.json', 'w', encoding =\"utf-8\") as fp:\n",
    "  json.dump(person_dict, fp)"
   ]
  },
  {
   "cell_type": "code",
   "execution_count": 28,
   "metadata": {},
   "outputs": [],
   "source": [
    "person_string = '{\"name\": \"Apirak\", \"languages\": [\"THAI\", \"ENGLISG\"], \"age\": 32}'\n",
    "person_dict = json.loads(person_string)\n",
    "with open('person_1.json', 'w', encoding =\"utf-8\") as fp:\n",
    "  json.dump(person_dict, fp, indent = 4, sort_keys=True)"
   ]
  },
  {
   "cell_type": "code",
   "execution_count": null,
   "metadata": {},
   "outputs": [],
   "source": []
  },
  {
   "cell_type": "code",
   "execution_count": null,
   "metadata": {},
   "outputs": [],
   "source": []
  },
  {
   "cell_type": "code",
   "execution_count": null,
   "metadata": {},
   "outputs": [],
   "source": []
  },
  {
   "cell_type": "code",
   "execution_count": null,
   "metadata": {},
   "outputs": [],
   "source": []
  }
 ],
 "metadata": {
  "kernelspec": {
   "display_name": "Python 3",
   "language": "python",
   "name": "python3"
  },
  "language_info": {
   "codemirror_mode": {
    "name": "ipython",
    "version": 3
   },
   "file_extension": ".py",
   "mimetype": "text/x-python",
   "name": "python",
   "nbconvert_exporter": "python",
   "pygments_lexer": "ipython3",
   "version": "3.7.9"
  },
  "orig_nbformat": 4,
  "vscode": {
   "interpreter": {
    "hash": "9f055534beaa1c61978814c8218b557463786b9ca0b8575a7fe0ee63d5b97ae4"
   }
  }
 },
 "nbformat": 4,
 "nbformat_minor": 2
}
