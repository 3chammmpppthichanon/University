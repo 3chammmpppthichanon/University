{
 "cells": [
  {
   "cell_type": "code",
   "execution_count": 33,
   "id": "f09b56e9",
   "metadata": {},
   "outputs": [],
   "source": [
    "import _pickle as cPickle"
   ]
  },
  {
   "cell_type": "code",
   "execution_count": 34,
   "id": "d5a5c7d6",
   "metadata": {},
   "outputs": [],
   "source": [
    "class A(object):\n",
    "    def __init__(self,a):\n",
    "        self.a = a"
   ]
  },
  {
   "cell_type": "code",
   "execution_count": 35,
   "id": "b8bb7358",
   "metadata": {},
   "outputs": [],
   "source": [
    "class B(A):\n",
    "    def __init__(self,a,b):\n",
    "       A.__init__(self,a)\n",
    "       self.b = b"
   ]
  },
  {
   "cell_type": "code",
   "execution_count": 36,
   "id": "f15e4f86",
   "metadata": {},
   "outputs": [],
   "source": [
    "class C(B):\n",
    "    def __init__(self,a,b,c):\n",
    "       super().__init__(a,b)\n",
    "       self.c = c"
   ]
  },
  {
   "cell_type": "markdown",
   "id": "6f636e45",
   "metadata": {},
   "source": [
    "## example 1"
   ]
  },
  {
   "cell_type": "code",
   "execution_count": 37,
   "id": "e7f3df62",
   "metadata": {},
   "outputs": [],
   "source": [
    "obj = [C(1,2,3), C(4.0,5.0,6.0), C('x','y','z'), C(True,False,False), C(11,12.0,False)] \n"
   ]
  },
  {
   "cell_type": "code",
   "execution_count": 39,
   "id": "d1ba2414",
   "metadata": {},
   "outputs": [],
   "source": [
    "try:\n",
    "    with open(\"Object_write.bin\", \"wb\") as fp:\n",
    "        for ob in obj:\n",
    "            cPickle.dump(ob,fp)\n",
    "except Exception as e:\n",
    "    print(e.__class__,e.args[1])"
   ]
  },
  {
   "cell_type": "code",
   "execution_count": 10,
   "id": "a9efe46a",
   "metadata": {},
   "outputs": [
    {
     "name": "stdout",
     "output_type": "stream",
     "text": [
      "1 2 3\n"
     ]
    }
   ],
   "source": [
    "print(obj.a, obj.b, obj.c)"
   ]
  },
  {
   "cell_type": "code",
   "execution_count": 45,
   "id": "d1972075",
   "metadata": {},
   "outputs": [
    {
     "name": "stdout",
     "output_type": "stream",
     "text": [
      "1 2 3\n",
      "4.0 5.0 6.0\n",
      "x y z\n",
      "True False False\n",
      "11 12.0 False\n"
     ]
    }
   ],
   "source": [
    "try:\n",
    "    with open(\"Object_write.bin\", \"rb\") as fp:\n",
    "        while(True):\n",
    "            ob = cPickle.load(fp)\n",
    "            if not ob:\n",
    "                break\n",
    "            else:\n",
    "                print(ob.a, ob.b, ob.c)\n",
    "except EOFError:\n",
    "    pass"
   ]
  },
  {
   "cell_type": "code",
   "execution_count": null,
   "id": "94041bd9",
   "metadata": {},
   "outputs": [],
   "source": []
  }
 ],
 "metadata": {
  "kernelspec": {
   "display_name": "Python 3 (ipykernel)",
   "language": "python",
   "name": "python3"
  },
  "language_info": {
   "codemirror_mode": {
    "name": "ipython",
    "version": 3
   },
   "file_extension": ".py",
   "mimetype": "text/x-python",
   "name": "python",
   "nbconvert_exporter": "python",
   "pygments_lexer": "ipython3",
   "version": "3.7.9"
  }
 },
 "nbformat": 4,
 "nbformat_minor": 5
}
