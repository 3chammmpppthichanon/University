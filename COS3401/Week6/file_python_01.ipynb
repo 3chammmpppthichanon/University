{
 "cells": [
  {
   "cell_type": "markdown",
   "metadata": {},
   "source": [
    "### Files in Python\n",
    "A file is a container in computer storage devices used for storing data. When we want to read from or write to a file, we need to open it first. When we are done, it needs to be closed.\n",
    "In Python, a file operation takes place in the following order:\n",
    "    1. Open a file\n",
    "    2. Read or write (perform operation)\n",
    "    3. Close the file"
   ]
  },
  {
   "cell_type": "markdown",
   "metadata": {},
   "source": [
    "### Opening Files\n",
    "In Python, we use the open() method to open files. By default, the files are open in read mode (cannot be modified). "
   ]
  },
  {
   "cell_type": "code",
   "execution_count": 1,
   "metadata": {},
   "outputs": [
    {
     "name": "stdout",
     "output_type": "stream",
     "text": [
      "<class 'FileNotFoundError'> No such file or directory\n"
     ]
    }
   ],
   "source": [
    "try:\n",
    "    fp = open(\"test1.txt\")\n",
    "    contents = fp.read()\n",
    "    print(contents)\n",
    "    fp.close()\n",
    "except Exception as e:\n",
    "    dir(e)\n",
    "    print(e.__class__,e.args[1])\n"
   ]
  },
  {
   "cell_type": "markdown",
   "metadata": {},
   "source": [
    "#### By default, \n",
    "Files are open in read mode (cannot be modified). The code above is equivalent to"
   ]
  },
  {
   "cell_type": "code",
   "execution_count": null,
   "metadata": {},
   "outputs": [],
   "source": [
    "try:\n",
    "    fp = open(\"test.txt\", \"r\")\n",
    "    contents = fp.read()\n",
    "    print(contents)\n",
    "except Exception as e:\n",
    "    print(e.__class__,e.args[1])\n",
    "finally:\n",
    "    fp.close()\n"
   ]
  },
  {
   "cell_type": "markdown",
   "metadata": {},
   "source": [
    "## f = open(filename, mode)\n",
    "Where the following mode is supported:\n",
    "r: open an existing file for a read operation.\n",
    "w: open an existing file for a write operation. If the file already contains some data then it will be overridden but if the file is not present then it creates the file as well.\n",
    "a:  open an existing file for append operation. It won’t override existing data.\n",
    "(r+, w+, a+)"
   ]
  },
  {
   "cell_type": "markdown",
   "metadata": {},
   "source": [
    "## Use of with...open Syntax\n",
    "In Python, we can use the with...open syntax to automatically close the file."
   ]
  },
  {
   "cell_type": "code",
   "execution_count": null,
   "metadata": {},
   "outputs": [],
   "source": [
    "try:\n",
    "    with open(\"test.txt\", \"r\") as fp:\n",
    "        contents = fp.read()\n",
    "        print(contents)\n",
    "except Exception as e:\n",
    "    print(e.__class__,e.args[1])"
   ]
  },
  {
   "cell_type": "markdown",
   "metadata": {},
   "source": [
    "## How to read text"
   ]
  },
  {
   "cell_type": "code",
   "execution_count": null,
   "metadata": {},
   "outputs": [],
   "source": [
    "try:\n",
    "    with open(\"test2.txt\", \"r\",  encoding=\"utf-8\") as fp:\n",
    "        contents = fp.read(25)\n",
    "        print(contents)\n",
    "except Exception as e:\n",
    "    dir(e)\n",
    "    print(e.__class__,e.args[1])"
   ]
  },
  {
   "cell_type": "code",
   "execution_count": null,
   "metadata": {},
   "outputs": [],
   "source": [
    "try:\n",
    "    with open(\"test2.txt\", \"r\",  encoding=\"utf-8\") as fp:\n",
    "        for i in range(3):\n",
    "            contents = fp.readline()\n",
    "            print(contents)\n",
    "except Exception as e:\n",
    "    dir(e)\n",
    "    print(e.__class__,e.args[1])"
   ]
  },
  {
   "cell_type": "code",
   "execution_count": null,
   "metadata": {},
   "outputs": [],
   "source": [
    "try:\n",
    "    with open(\"test2.txt\", \"r\",  encoding=\"utf-8\") as fp:\n",
    "        contents = fp.readlines()\n",
    "        print(contents)\n",
    "except Exception as e:\n",
    "    dir(e)\n",
    "    print(e.__class__,e.args[1])"
   ]
  },
  {
   "cell_type": "code",
   "execution_count": null,
   "metadata": {},
   "outputs": [],
   "source": [
    "try:\n",
    "    with open(\"test2.txt\", \"r\",  encoding=\"utf-8\") as fp:\n",
    "        for x in fp:\n",
    "            print(x)\n",
    "except Exception as e:\n",
    "    dir(e)\n",
    "    print(e.__class__,e.args[1])"
   ]
  },
  {
   "cell_type": "code",
   "execution_count": null,
   "metadata": {},
   "outputs": [],
   "source": [
    "try:\n",
    "    with open(\"test2.txt\", \"r\",  encoding=\"utf-8\") as fp:\n",
    "        for x in fp:\n",
    "            print(x.rstrip('\\n').split())\n",
    "except Exception as e:\n",
    "    print(e.__class__,e.args[1])"
   ]
  },
  {
   "cell_type": "code",
   "execution_count": 2,
   "metadata": {},
   "outputs": [
    {
     "name": "stdout",
     "output_type": "stream",
     "text": [
      "<class 'UnicodeDecodeError'> b\"Types of Text Files\\r\\nIn the general sense, a text file refers to any file that has only text and is void of images and other non-text characters. \\r\\nThese sometimes use the TXT file extension but don't necessarily need to. \\r\\nFor example, a Word document that is an essay containing just text can be in the DOCX file format but still be called a text file.\\r\\nOf course, files with the .TXT extension are text files, too, and are commonly used to store things that can be easily opened with any text editor or written to with a simple script. \\r\\n\\xe0\\xb9\\x83\\xe0\\xb8\\x99\\xe0\\xb8\\xa7\\xe0\\xb8\\xb1\\xe0\\xb8\\x99\\xe0\\xb8\\x9e\\xe0\\xb8\\xa3\\xe0\\xb8\\xb8\\xe0\\xb9\\x88\\xe0\\xb8\\x87\\xe0\\xb8\\x99\\xe0\\xb8\\xb5\\xe0\\xb9\\x89 (1 \\xe0\\xb8\\x81.\\xe0\\xb8\\x9e.) \\xe0\\xb8\\xab\\xe0\\xb8\\xa5\\xe0\\xb8\\xb1\\xe0\\xb8\\x87\\xe0\\xb8\\x88\\xe0\\xb8\\xb2\\xe0\\xb8\\x81\\xe0\\xb8\\xa3\\xe0\\xb8\\xb2\\xe0\\xb8\\x87\\xe0\\xb8\\xa7\\xe0\\xb8\\xb1\\xe0\\xb8\\xa5\\xe0\\xb8\\xad\\xe0\\xb8\\xad\\xe0\\xb8\\x81\\xe0\\xb9\\x81\\xe0\\xb8\\xa5\\xe0\\xb9\\x89\\xe0\\xb8\\xa7 \\xe0\\xb9\\x80\\xe0\\xb8\\xa3\\xe0\\xb8\\xb2\\xe0\\xb8\\x88\\xe0\\xb8\\xb0\\xe0\\xb8\\x84\\xe0\\xb8\\xb1\\xe0\\xb8\\x94\\xe0\\xb9\\x80\\xe0\\xb8\\xa5\\xe0\\xb8\\x82\\xe0\\xb8\\x97\\xe0\\xb8\\xb5\\xe0\\xb9\\x88\\xe0\\xb8\\x96\\xe0\\xb8\\xb9\\xe0\\xb8\\x81\\xe0\\xb8\\xa3\\xe0\\xb8\\xb2\\xe0\\xb8\\x87\\xe0\\xb8\\xa7\\xe0\\xb8\\xb1\\xe0\\xb8\\xa5 \\xe0\\xb8\\x99\\xe0\\xb8\\xb3\\xe0\\xb8\\xaa\\xe0\\xb9\\x88\\xe0\\xb8\\x87\\xe0\\xb9\\x84\\xe0\\xb8\\x9b\\xe0\\xb9\\x83\\xe0\\xb8\\xab\\xe0\\xb9\\x89\\xe0\\xb8\\x94\\xe0\\xb8\\xb5\\xe0\\xb9\\x80\\xe0\\xb8\\xad\\xe0\\xb8\\xaa\\xe0\\xb9\\x84\\xe0\\xb8\\xad \\xe0\\xb9\\x81\\xe0\\xb8\\xa5\\xe0\\xb8\\xb0\\xe0\\xb8\\x97\\xe0\\xb8\\xb2\\xe0\\xb8\\x87\\xe0\\xb8\\x94\\xe0\\xb8\\xb5\\xe0\\xb9\\x80\\xe0\\xb8\\xad\\xe0\\xb8\\xaa\\xe0\\xb9\\x84\\xe0\\xb8\\xad\\xe0\\xb8\\x88\\xe0\\xb8\\xb0\\xe0\\xb8\\x95\\xe0\\xb8\\xb4\\xe0\\xb8\\x94\\xe0\\xb8\\x95\\xe0\\xb9\\x88\\xe0\\xb8\\xad\\xe0\\xb8\\xa5\\xe0\\xb8\\xb9\\xe0\\xb8\\x81\\xe0\\xb8\\x84\\xe0\\xb9\\x89\\xe0\\xb8\\xb2 \\xe0\\xb9\\x81\\xe0\\xb8\\xa5\\xe0\\xb9\\x89\\xe0\\xb8\\xa7\\xe0\\xb8\\x81\\xe0\\xb9\\x87\\xe0\\xb8\\xa3\\xe0\\xb8\\xb5\\xe0\\xb8\\x9a\\xe0\\xb8\\x99\\xe0\\xb8\\xb3\\xe0\\xb8\\xa5\\xe0\\xb8\\xad\\xe0\\xb8\\x95\\xe0\\xb9\\x80\\xe0\\xb8\\x95\\xe0\\xb8\\xad\\xe0\\xb8\\xa3\\xe0\\xb8\\xb5\\xe0\\xb8\\x96\\xe0\\xb8\\xb9\\xe0\\xb8\\x81\\xe0\\xb8\\xa3\\xe0\\xb8\\xb2\\xe0\\xb8\\x87\\xe0\\xb8\\xa7\\xe0\\xb8\\xb1\\xe0\\xb8\\xa5\\xe0\\xb8\\xaa\\xe0\\xb9\\x88\\xe0\\xb8\\x87\\xe0\\xb9\\x83\\xe0\\xb8\\xab\\xe0\\xb9\\x89\\xe0\\xb8\\x96\\xe0\\xb8\\xb6\\xe0\\xb8\\x87\\xe0\\xb8\\xa1\\xe0\\xb8\\xb7\\xe0\\xb8\\xad\\xe0\\xb8\\xa5\\xe0\\xb8\\xb9\\xe0\\xb8\\x81\\xe0\\xb8\\x84\\xe0\\xb9\\x89\\xe0\\xb8\\xb2 \\xe0\\xb8\\xa0\\xe0\\xb8\\xb2\\xe0\\xb8\\xa2\\xe0\\xb9\\x83\\xe0\\xb8\\x99 7 \\xe0\\xb8\\xa7\\xe0\\xb8\\xb1\\xe0\\xb8\\x99\"\n"
     ]
    }
   ],
   "source": [
    "try:\n",
    "    with open(\"test2.txt\", \"r\") as fp:\n",
    "        for x in fp:\n",
    "            x = x.decode(\"utf-8\")\n",
    "            print(x.rstrip('\\n').split())\n",
    "except Exception as e:\n",
    "    print(e.__class__,e.args[1])"
   ]
  },
  {
   "cell_type": "markdown",
   "metadata": {},
   "source": [
    "## write() function\n",
    "The write() function will write the content in the file without adding any extra characters.\n",
    "## Syntax:\n",
    "file_name.write(content) "
   ]
  },
  {
   "cell_type": "code",
   "execution_count": null,
   "metadata": {},
   "outputs": [],
   "source": [
    "contents = \"As per the syntax, the string that is passed to the write() function is written into the opened file. The string may include numbers, special characters, or symbols. While writing data to a file, we must know that the write function does not add a newline character(\\n) to the end of the string. The write() function returns None.\"\n",
    "try:\n",
    "    with open(\"test_write.txt\", \"w\",  encoding=\"utf-8\") as fp:\n",
    "        fp.write(contents)\n",
    "except Exception as e:\n",
    "    print(e.__class__,e.args[1])"
   ]
  },
  {
   "cell_type": "markdown",
   "metadata": {},
   "source": [
    "## writelines() function\n",
    "This function writes the content of a list (or a list of string)to a file."
   ]
  },
  {
   "cell_type": "markdown",
   "metadata": {},
   "source": [
    "## Ex1"
   ]
  },
  {
   "cell_type": "code",
   "execution_count": null,
   "metadata": {},
   "outputs": [],
   "source": [
    "contents = [\"Create - will create a file, returns an error if the file exist\", \"Append - will create a file if the specified file does not exist\", \"Write - will create a file if the specified file does not exist\"]\n",
    "try:\n",
    "    with open(\"test_write_1.txt\", \"w\",  encoding=\"utf-8\") as fp:\n",
    "        fp.writelines(contents)\n",
    "except Exception as e:\n",
    "    print(e.__class__,e.args[1])"
   ]
  },
  {
   "cell_type": "markdown",
   "metadata": {},
   "source": [
    "## Ex2"
   ]
  },
  {
   "cell_type": "code",
   "execution_count": null,
   "metadata": {},
   "outputs": [],
   "source": [
    "contents = [\"Create - will create a file, returns an error if the file exist\\n\", \"Append - will create a file if the specified file does not exist\\n\", \"Write - will create a file if the specified file does not exist\\n\"]\n",
    "try:\n",
    "    with open(\"test_write_1.txt\", \"w\",  encoding=\"utf-8\") as fp:\n",
    "        fp.writelines(contents)\n",
    "except Exception as e:\n",
    "    print(e.__class__,e.args[1])"
   ]
  },
  {
   "cell_type": "markdown",
   "metadata": {},
   "source": [
    "## Ex3"
   ]
  },
  {
   "cell_type": "code",
   "execution_count": null,
   "metadata": {},
   "outputs": [],
   "source": [
    "contents = [\"Create - will create a file, returns an error if the file exist\", \"Append - will create a file if the specified file does not exist\", \"Write - will create a file if the specified file does not exist\"]\n",
    "try:\n",
    "    with open(\"test_write_2.txt\", \"w\",  encoding=\"utf-8\") as fp:\n",
    "        for sentence in contents:\n",
    "            fp.write(sentence+'\\n')\n",
    "except Exception as e:\n",
    "    print(e.__class__,e.args[1])"
   ]
  },
  {
   "cell_type": "code",
   "execution_count": null,
   "metadata": {},
   "outputs": [],
   "source": []
  }
 ],
 "metadata": {
  "kernelspec": {
   "display_name": "Python 3 (ipykernel)",
   "language": "python",
   "name": "python3"
  },
  "language_info": {
   "codemirror_mode": {
    "name": "ipython",
    "version": 3
   },
   "file_extension": ".py",
   "mimetype": "text/x-python",
   "name": "python",
   "nbconvert_exporter": "python",
   "pygments_lexer": "ipython3",
   "version": "3.7.9"
  },
  "vscode": {
   "interpreter": {
    "hash": "9f055534beaa1c61978814c8218b557463786b9ca0b8575a7fe0ee63d5b97ae4"
   }
  }
 },
 "nbformat": 4,
 "nbformat_minor": 2
}
