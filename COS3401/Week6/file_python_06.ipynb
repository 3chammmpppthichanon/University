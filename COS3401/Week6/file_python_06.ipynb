{
 "cells": [
  {
   "cell_type": "code",
   "execution_count": 1,
   "id": "cbed8155",
   "metadata": {},
   "outputs": [],
   "source": [
    "import _pickle as cPickle\n",
    "import numpy as np"
   ]
  },
  {
   "cell_type": "code",
   "execution_count": 2,
   "id": "56151be3",
   "metadata": {},
   "outputs": [],
   "source": [
    "class Mat(object):\n",
    "    def __init__(self, x):\n",
    "        self.mat = x"
   ]
  },
  {
   "cell_type": "code",
   "execution_count": 3,
   "id": "592ce77f",
   "metadata": {},
   "outputs": [
    {
     "name": "stdout",
     "output_type": "stream",
     "text": [
      "[[22 17 15 17 25]\n",
      " [21 17 21 19 17]\n",
      " [29 29 17 19 14]\n",
      " [18 14 11 10 20]\n",
      " [29 19 19 28 28]]\n",
      "[[15 26 23 28 27]\n",
      " [10 27 28 26 11]\n",
      " [16 29 16 24 12]\n",
      " [29 16 16 19 14]\n",
      " [23 20 19 18 18]]\n",
      "[[10 11 12 25 17]\n",
      " [24 29 11 18 26]\n",
      " [11 22 19 23 21]\n",
      " [12 23 22 24 28]\n",
      " [28 19 17 14 12]]\n",
      "[[10 15 10 22 25]\n",
      " [12 23 11 22 14]\n",
      " [15 17 24 26 11]\n",
      " [11 13 27 19 18]\n",
      " [20 29 17 10 19]]\n",
      "[[19 10 22 13 26]\n",
      " [14 24 20 20 12]\n",
      " [25 15 17 28 20]\n",
      " [11 27 17 10 18]\n",
      " [12 20 19 23 22]]\n"
     ]
    }
   ],
   "source": [
    "try:\n",
    "    with open(\"Object_Matrix.bin\", \"wb\") as fp:\n",
    "        for i in range(5):\n",
    "            x = np.random.randint(10,30, size=(5, 5))\n",
    "            print(x)\n",
    "            ob_mat = Mat(x)\n",
    "            cPickle.dump(ob_mat,fp)\n",
    "except Exception as e:\n",
    "    print(e.__class__,e.args[1])"
   ]
  },
  {
   "cell_type": "code",
   "execution_count": 4,
   "id": "4311906a",
   "metadata": {},
   "outputs": [
    {
     "name": "stdout",
     "output_type": "stream",
     "text": [
      "[[22 17 15 17 25]\n",
      " [21 17 21 19 17]\n",
      " [29 29 17 19 14]\n",
      " [18 14 11 10 20]\n",
      " [29 19 19 28 28]]\n",
      "[[15 26 23 28 27]\n",
      " [10 27 28 26 11]\n",
      " [16 29 16 24 12]\n",
      " [29 16 16 19 14]\n",
      " [23 20 19 18 18]]\n",
      "[[10 11 12 25 17]\n",
      " [24 29 11 18 26]\n",
      " [11 22 19 23 21]\n",
      " [12 23 22 24 28]\n",
      " [28 19 17 14 12]]\n",
      "[[10 15 10 22 25]\n",
      " [12 23 11 22 14]\n",
      " [15 17 24 26 11]\n",
      " [11 13 27 19 18]\n",
      " [20 29 17 10 19]]\n",
      "[[19 10 22 13 26]\n",
      " [14 24 20 20 12]\n",
      " [25 15 17 28 20]\n",
      " [11 27 17 10 18]\n",
      " [12 20 19 23 22]]\n"
     ]
    }
   ],
   "source": [
    "try:\n",
    "    with open(\"Object_Matrix.bin\", \"rb\") as fp:\n",
    "        for i in range(5):\n",
    "            ob = cPickle.load(fp)\n",
    "            if not ob:\n",
    "                break\n",
    "            else:\n",
    "                print(ob.mat)\n",
    "except EOFError:\n",
    "    print(\"something Wrong\")"
   ]
  },
  {
   "cell_type": "code",
   "execution_count": null,
   "id": "a1d811a3",
   "metadata": {},
   "outputs": [],
   "source": []
  }
 ],
 "metadata": {
  "kernelspec": {
   "display_name": "Python 3",
   "language": "python",
   "name": "python3"
  },
  "language_info": {
   "codemirror_mode": {
    "name": "ipython",
    "version": 3
   },
   "file_extension": ".py",
   "mimetype": "text/x-python",
   "name": "python",
   "nbconvert_exporter": "python",
   "pygments_lexer": "ipython3",
   "version": "3.9.7"
  },
  "vscode": {
   "interpreter": {
    "hash": "1cc8ca4a92c6b000074acaadcc58e76bf7b3cc77828e35c52609a166c75d1d77"
   }
  }
 },
 "nbformat": 4,
 "nbformat_minor": 5
}
