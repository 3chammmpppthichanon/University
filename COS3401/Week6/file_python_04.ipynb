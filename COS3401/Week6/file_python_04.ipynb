{
 "cells": [
  {
   "cell_type": "code",
   "execution_count": 2,
   "metadata": {},
   "outputs": [],
   "source": [
    "contents = \"This is a binary file\"\n",
    "try:\n",
    "    with open(\"binary_write.bin\", \"wb\") as fp:\n",
    "        sentence = bytearray(contents.encode(\"ascii\"))\n",
    "        fp.write(sentence)\n",
    "except Exception as e:\n",
    "    print(e.__class__,e.args[1])"
   ]
  },
  {
   "cell_type": "code",
   "execution_count": 1,
   "metadata": {},
   "outputs": [],
   "source": [
    "contents = \"This is a binary file\"\n",
    "try:\n",
    "    with open(\"text_write.txt\", \"w\") as fp:\n",
    "        fp.write(contents)\n",
    "except Exception as e:\n",
    "    print(e.__class__,e.args[1])"
   ]
  },
  {
   "cell_type": "code",
   "execution_count": 4,
   "metadata": {},
   "outputs": [],
   "source": [
    "contents = \"การบันทึกไฟล์แบบตัวอักษร\"\n",
    "try:\n",
    "    with open(\"text_write_th.txt\", \"w\", encoding='utf-8') as fp:\n",
    "        fp.write(contents)\n",
    "except Exception as e:\n",
    "    print(e.__class__,e.args[1])"
   ]
  },
  {
   "cell_type": "code",
   "execution_count": 8,
   "metadata": {},
   "outputs": [],
   "source": [
    "contents = \"การ\"\n",
    "try:\n",
    "    with open(\"binary_write_th.bin\", \"wb\") as fp:\n",
    "        sentence = bytearray(contents.encode(\"utf-8\"))\n",
    "        fp.write(sentence)\n",
    "except Exception as e:\n",
    "    print(e.__class__,e.args[1])"
   ]
  },
  {
   "cell_type": "code",
   "execution_count": 6,
   "metadata": {},
   "outputs": [
    {
     "name": "stdout",
     "output_type": "stream",
     "text": [
      "b'This is a binary file'\n"
     ]
    }
   ],
   "source": [
    "try:\n",
    "    with open(\"binary_write.bin\", \"rb\") as fp:\n",
    "        content = fp.read()\n",
    "        print(content)\n",
    "except Exception as e:\n",
    "    print(e.__class__,e.args[1])"
   ]
  },
  {
   "cell_type": "code",
   "execution_count": 13,
   "metadata": {},
   "outputs": [
    {
     "name": "stdout",
     "output_type": "stream",
     "text": [
      "การ\n"
     ]
    }
   ],
   "source": [
    "try:\n",
    "    with open(\"binary_write_th.bin\", \"rb\") as fp:\n",
    "        content = fp.read()\n",
    "        print(content.decode(\"utf-8\"))\n",
    "except Exception as e:\n",
    "    print(e.__class__,e.args[1])"
   ]
  },
  {
   "cell_type": "code",
   "execution_count": 27,
   "metadata": {},
   "outputs": [
    {
     "ename": "IndexError",
     "evalue": "tuple index out of range",
     "output_type": "error",
     "traceback": [
      "\u001b[1;31m---------------------------------------------------------------------------\u001b[0m",
      "\u001b[1;31mValueError\u001b[0m                                Traceback (most recent call last)",
      "Cell \u001b[1;32mIn[27], line 4\u001b[0m\n\u001b[0;32m      3\u001b[0m \u001b[39mwith\u001b[39;00m \u001b[39mopen\u001b[39m(\u001b[39m\"\u001b[39m\u001b[39mdigit.bin\u001b[39m\u001b[39m\"\u001b[39m, \u001b[39m\"\u001b[39m\u001b[39mwb\u001b[39m\u001b[39m\"\u001b[39m) \u001b[39mas\u001b[39;00m fp:\n\u001b[1;32m----> 4\u001b[0m     num \u001b[39m=\u001b[39m \u001b[39mbytearray\u001b[39;49m(contents)\n\u001b[0;32m      5\u001b[0m     \u001b[39mprint\u001b[39m(num)\n",
      "\u001b[1;31mValueError\u001b[0m: byte must be in range(0, 256)",
      "\nDuring handling of the above exception, another exception occurred:\n",
      "\u001b[1;31mIndexError\u001b[0m                                Traceback (most recent call last)",
      "Cell \u001b[1;32mIn[27], line 8\u001b[0m\n\u001b[0;32m      6\u001b[0m         fp\u001b[39m.\u001b[39mwrite(num)\n\u001b[0;32m      7\u001b[0m \u001b[39mexcept\u001b[39;00m \u001b[39mException\u001b[39;00m \u001b[39mas\u001b[39;00m e:\n\u001b[1;32m----> 8\u001b[0m     \u001b[39mprint\u001b[39m(e\u001b[39m.\u001b[39m\u001b[39m__class__\u001b[39m,e\u001b[39m.\u001b[39;49margs[\u001b[39m1\u001b[39;49m])\n",
      "\u001b[1;31mIndexError\u001b[0m: tuple index out of range"
     ]
    }
   ],
   "source": [
    "contents = [0, 128, 255]\n",
    "try:\n",
    "    with open(\"digit.bin\", \"wb\") as fp:\n",
    "        num = bytearray(contents)\n",
    "        print(num)\n",
    "        fp.write(num)\n",
    "except Exception as e:\n",
    "    print(e.__class__,e.args[1])"
   ]
  },
  {
   "cell_type": "code",
   "execution_count": 15,
   "metadata": {},
   "outputs": [
    {
     "name": "stdout",
     "output_type": "stream",
     "text": [
      "b'\\x02\\x04\\x06\\x08\\x0c\\x0f'\n",
      "[2, 4, 6, 8, 12, 15]\n"
     ]
    }
   ],
   "source": [
    "try:\n",
    "    with open(\"digit.bin\", \"rb\") as fp:\n",
    "        num = fp.read()\n",
    "        print(num)\n",
    "        print(list(num))\n",
    "except Exception as e:\n",
    "    print(e.__class__,e.args[1])"
   ]
  },
  {
   "cell_type": "code",
   "execution_count": 16,
   "metadata": {},
   "outputs": [
    {
     "name": "stdout",
     "output_type": "stream",
     "text": [
      "bytearray(b'\\x01\\x00\\x01')\n"
     ]
    }
   ],
   "source": [
    "contents = [True,False,True]\n",
    "try:\n",
    "    with open(\"boolean.bin\", \"wb\") as fp:\n",
    "        num = bytearray(contents)\n",
    "        print(num)\n",
    "        fp.write(num)\n",
    "except Exception as e:\n",
    "    print(e.__class__,e.args[1])"
   ]
  },
  {
   "cell_type": "code",
   "execution_count": 20,
   "metadata": {},
   "outputs": [
    {
     "name": "stdout",
     "output_type": "stream",
     "text": [
      "b'\\x01\\x00\\x01'\n",
      "[1, 0, 1]\n"
     ]
    }
   ],
   "source": [
    "try:\n",
    "    with open(\"boolean.bin\", \"rb\") as fp:\n",
    "        num = fp.read()\n",
    "        print(num)\n",
    "        print(list(num))\n",
    "except Exception as e:\n",
    "    print(e.__class__,e.args[1])"
   ]
  },
  {
   "cell_type": "code",
   "execution_count": null,
   "metadata": {},
   "outputs": [],
   "source": [
    "from array import array\n",
    "fp = open('file', 'wb')\n",
    "data = array('d', [3.14, 2.7, 0.0, -1.0, 1.1])\n",
    "data.tofile(fp)\n",
    "fp.close()"
   ]
  },
  {
   "cell_type": "code",
   "execution_count": null,
   "metadata": {},
   "outputs": [],
   "source": [
    "fp = open('file', 'rb')\n",
    "data = array('d')\n",
    "print(data)\n",
    "data.fromstring(fp.read())\n",
    "print(data)\n",
    "print(list(data))"
   ]
  },
  {
   "cell_type": "code",
   "execution_count": null,
   "metadata": {},
   "outputs": [],
   "source": [
    "from array import array\n",
    "fp = open('file_int', 'wb')\n",
    "data = array('i', [300, 277, 528, 621, 120])\n",
    "data.tofile(fp)\n",
    "fp.close()"
   ]
  },
  {
   "cell_type": "code",
   "execution_count": null,
   "metadata": {},
   "outputs": [],
   "source": [
    "fp = open('file_int', 'rb')\n",
    "data = array('i')\n",
    "print(data)\n",
    "data.fromstring(fp.read())\n",
    "print(data)\n",
    "print(list(data))"
   ]
  },
  {
   "cell_type": "code",
   "execution_count": null,
   "metadata": {},
   "outputs": [],
   "source": []
  }
 ],
 "metadata": {
  "kernelspec": {
   "display_name": "Python 3",
   "language": "python",
   "name": "python3"
  },
  "language_info": {
   "codemirror_mode": {
    "name": "ipython",
    "version": 3
   },
   "file_extension": ".py",
   "mimetype": "text/x-python",
   "name": "python",
   "nbconvert_exporter": "python",
   "pygments_lexer": "ipython3",
   "version": "3.9.7"
  },
  "vscode": {
   "interpreter": {
    "hash": "1cc8ca4a92c6b000074acaadcc58e76bf7b3cc77828e35c52609a166c75d1d77"
   }
  }
 },
 "nbformat": 4,
 "nbformat_minor": 2
}
