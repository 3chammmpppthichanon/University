{
 "cells": [
  {
   "cell_type": "markdown",
   "metadata": {},
   "source": [
    "# Import Module"
   ]
  },
  {
   "cell_type": "code",
   "execution_count": 1,
   "metadata": {},
   "outputs": [],
   "source": [
    "import cv2\n",
    "import numpy as np\n",
    "import matplotlib.pyplot as plt"
   ]
  },
  {
   "cell_type": "markdown",
   "metadata": {},
   "source": [
    "### Show Image Module"
   ]
  },
  {
   "cell_type": "code",
   "execution_count": 2,
   "metadata": {},
   "outputs": [],
   "source": [
    "def plt_Show(img):\n",
    "    plt.axis('off')\n",
    "    plt.imshow(img, cmap='gray')\n",
    "    plt.show()"
   ]
  },
  {
   "cell_type": "code",
   "execution_count": 3,
   "metadata": {},
   "outputs": [],
   "source": [
    "def cv_show(img):\n",
    "    cv2.imshow('Mean Filtered Image', img)\n",
    "    cv2.waitKey(0)\n",
    "    cv2.destroyAllWindows()"
   ]
  },
  {
   "cell_type": "markdown",
   "metadata": {},
   "source": [
    "#### Method 1 using cv library"
   ]
  },
  {
   "cell_type": "code",
   "execution_count": 4,
   "metadata": {},
   "outputs": [],
   "source": [
    "def Blur(img, k):\n",
    "    return cv2.blur(img, (k, k)).astype(np.uint8)"
   ]
  },
  {
   "cell_type": "code",
   "execution_count": 5,
   "metadata": {},
   "outputs": [],
   "source": [
    "def filterImage(img, k):\n",
    "    mask = np.ones([k, k], dtype='float16') / (k**2)\n",
    "    return cv2.filter2D(img, -1, mask).astype(np.uint8)"
   ]
  },
  {
   "cell_type": "markdown",
   "metadata": {},
   "source": [
    "### 1. Read Image"
   ]
  },
  {
   "cell_type": "code",
   "execution_count": 9,
   "metadata": {},
   "outputs": [],
   "source": [
    "image = cv2.imread(r'C:\\Users\\Thichanon\\Desktop\\University\\COS3401\\Week5\\images\\lena_noise_512.png')\n",
    "gray = cv2.cvtColor(image, cv2.COLOR_BGR2GRAY)\n"
   ]
  },
  {
   "cell_type": "code",
   "execution_count": 7,
   "metadata": {},
   "outputs": [],
   "source": [
    "blur_img = Blur(gray, 3)\n",
    "imgs = cv2.hconcat([gray, blur_img])\n",
    "cv_show(imgs)"
   ]
  },
  {
   "cell_type": "code",
   "execution_count": 12,
   "metadata": {},
   "outputs": [],
   "source": [
    "def filterCustom(img, k):\n",
    "    mask = np.ones([k,k], dtype='float16') / (k**2)\n",
    "    (m,n) = img.shape\n",
    "    out = img.copy()\n",
    "    bd = img.copy()\n",
    "    bd = int(k/2)\n",
    "    for i in range(bd, m-bd):\n",
    "        for j in range(bd, n-bd):\n",
    "            sub_f = img[i-bd:i+bd+1, j-bd:j+bd+1].astype('float16')\n",
    "            out[i,j] = np.sum(sub_f * mask).sum()\n",
    "        return out.astype(np.uint8)"
   ]
  },
  {
   "cell_type": "code",
   "execution_count": 13,
   "metadata": {},
   "outputs": [],
   "source": [
    "blur_img = filterCustom(gray, 7)\n",
    "imgs = cv2.hconcat([gray, blur_img])\n",
    "cv_show(imgs)"
   ]
  }
 ],
 "metadata": {
  "kernelspec": {
   "display_name": "Python 3",
   "language": "python",
   "name": "python3"
  },
  "language_info": {
   "codemirror_mode": {
    "name": "ipython",
    "version": 3
   },
   "file_extension": ".py",
   "mimetype": "text/x-python",
   "name": "python",
   "nbconvert_exporter": "python",
   "pygments_lexer": "ipython3",
   "version": "3.13.1"
  }
 },
 "nbformat": 4,
 "nbformat_minor": 2
}
