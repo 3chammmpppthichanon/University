{
 "cells": [
  {
   "cell_type": "markdown",
   "metadata": {},
   "source": [
    "## 1. Class and Object\n",
    "### Class:\n",
    "A blueprint for creating objects.\n",
    "### Object:\n",
    "An instance of a class."
   ]
  },
  {
   "cell_type": "code",
   "execution_count": null,
   "metadata": {},
   "outputs": [],
   "source": [
    "class A:\n",
    "    def __init__(self):\n",
    "        self.x = 1\n",
    "        self.y = 2\n",
    "        self.z = 3\n",
    "    def show(self):\n",
    "        return self.x, self.y, self.z\n",
    "\n",
    "obj = A()\n",
    "print(obj.show())"
   ]
  },
  {
   "cell_type": "markdown",
   "metadata": {},
   "source": [
    "###  Things You Should Never Do"
   ]
  },
  {
   "cell_type": "code",
   "execution_count": null,
   "metadata": {},
   "outputs": [],
   "source": [
    "obj.w = 4"
   ]
  },
  {
   "cell_type": "markdown",
   "metadata": {},
   "source": [
    "## 2. The introduction of  constructors\n",
    "In object-oriented programming (OOP), constructors are special methods used to initialize objects. They are called when an object is created, allowing the programmer to set up initial conditions for the object. In Python, constructors are defined using the __init__ method. Let's go through some basic examples to illustrate how constructors work in Python.\n",
    "\n",
    "### Example 1: Basic Constructor"
   ]
  },
  {
   "cell_type": "markdown",
   "metadata": {},
   "source": []
  },
  {
   "cell_type": "code",
   "execution_count": null,
   "metadata": {},
   "outputs": [],
   "source": [
    "class Dog:\n",
    "    def __init__(self, name, color):\n",
    "        self.name = name\n",
    "        self.color = color   \n",
    "    \n",
    "    def dogInfo(self):\n",
    "        print(f\" Name: {self.name} Color: {self.color}\")\n",
    "    \n",
    "    def bark(self):\n",
    "        return \"Woof!\"\n",
    "\n",
    "# Creating an object\n",
    "my_dog = Dog(\"Buddy\",\"brown\")\n",
    "print(my_dog.bark())\n",
    "my_dog.dogInfo()\n"
   ]
  },
  {
   "cell_type": "markdown",
   "metadata": {},
   "source": [
    "### Example 2: Constructor with Default Values"
   ]
  },
  {
   "cell_type": "markdown",
   "metadata": {},
   "source": []
  },
  {
   "cell_type": "code",
   "execution_count": null,
   "metadata": {},
   "outputs": [],
   "source": [
    "class Book:\n",
    "    def __init__(self, title, author, year=2023):\n",
    "        self.title = title\n",
    "        self.author = author\n",
    "        self.year = year\n",
    "\n",
    "my_book = Book(\"Python\", \"George Orwell\")\n",
    "print(f\"Title: {my_book.title}, Author: {my_book.author}, Year: {my_book.year}\")\n"
   ]
  },
  {
   "cell_type": "markdown",
   "metadata": {},
   "source": [
    "### Example 3: Constructor with Variable Number of Arguments\n"
   ]
  },
  {
   "cell_type": "code",
   "execution_count": null,
   "metadata": {},
   "outputs": [],
   "source": [
    "class Student:\n",
    "    def __init__(self, name, *courses):\n",
    "        self.name = name\n",
    "        self.courses = courses\n",
    "\n",
    "# Creating a Student object with a variable number of courses\n",
    "student = Student(\"Alice\", \"Math\", \"Physics\", \"Chemistry\")\n",
    "print(f\"Name: {student.name}, Courses: {student.courses}\")"
   ]
  },
  {
   "cell_type": "markdown",
   "metadata": {},
   "source": [
    "### Example 4: Calling a Parent Class Constructor\n",
    "#### Example 4.1"
   ]
  },
  {
   "cell_type": "code",
   "execution_count": null,
   "metadata": {},
   "outputs": [],
   "source": [
    "class A:\n",
    "    def __init__(self, name):\n",
    "        self.name = name\n",
    "    def test(self):\n",
    "        pass\n",
    "\n",
    "class B(A):\n",
    "    def test(self):\n",
    "        print( f\" Name: {self.name} in class B\" )\n",
    "        \n",
    "class C(A):\n",
    "    def test(self):\n",
    "        print( f\" Name: {self.name} in class C\" )\n",
    "\n",
    "ob1 = A(\"Buddy\")\n",
    "ob1.test()\n",
    "\n",
    "ob2 = B(\"Oddy\")\n",
    "ob2.test()\n",
    "\n",
    "ob3 = C(\"Ranny\")\n",
    "ob3.test()\n"
   ]
  },
  {
   "cell_type": "markdown",
   "metadata": {},
   "source": [
    "#### Example 4.2"
   ]
  },
  {
   "cell_type": "code",
   "execution_count": null,
   "metadata": {},
   "outputs": [],
   "source": [
    "class A:\n",
    "    def __init__(self, name,color):\n",
    "        self.name = name\n",
    "        self.color =color\n",
    "\n",
    "\n",
    "class B(A):\n",
    "    def __init__(self, name, color, age):\n",
    "        super(B,self).__init__(name, color)\n",
    "        self.age = age\n",
    "\n",
    "\n",
    "ob1 = A(\"Porke\", \"Gray\")\n",
    "print(f\"Class: {type(ob1)},     name: {ob1.name},     color: {ob1.color}\")\n",
    "\n",
    "ob2 = B(\"Dange\", \"Light Brown\", 4)\n",
    "print(f\"Class: {type(ob2)},     name: {ob2.name},     color: {ob2.color},     age: {ob2.age}\")\n"
   ]
  },
  {
   "cell_type": "markdown",
   "metadata": {},
   "source": [
    "#### Example 4.3"
   ]
  },
  {
   "cell_type": "code",
   "execution_count": null,
   "metadata": {},
   "outputs": [],
   "source": [
    "class ClassA:\n",
    "    def __init__(self):\n",
    "        print(\"Constructor of ClassA\")\n",
    "\n",
    "class ClassB:\n",
    "    def __init__(self):\n",
    "        print(\"Constructor of ClassB\")\n",
    "\n",
    "class ClassC(ClassA, ClassB):\n",
    "    def __init__(self):\n",
    "        ClassA.__init__(self)\n",
    "        ClassB.__init__(self)\n",
    "        print(\"Constructor of ClassC\")\n",
    "instance = ClassC()\n"
   ]
  },
  {
   "cell_type": "code",
   "execution_count": null,
   "metadata": {},
   "outputs": [],
   "source": [
    "class ClassA:\n",
    "    def __init__(self, x):\n",
    "        self.x = x\n",
    "\n",
    "class ClassB:\n",
    "    def __init__(self, y):\n",
    "        self.y = y\n",
    "\n",
    "class ClassC(ClassA, ClassB):\n",
    "    def __init__(self, x, y, z):\n",
    "        ClassA.__init__(self, x)\n",
    "        ClassB.__init__(self, y)\n",
    "        self.z = z\n",
    "instance = ClassC(1,2,3)\n",
    "print(instance.x, instance.y, instance.z)"
   ]
  },
  {
   "cell_type": "markdown",
   "metadata": {},
   "source": [
    "### 3. Class attributes\n",
    "#### 3.1. Introduction to Class Attributes\n",
    "Class attributes in Python are variables that are shared by all instances of a class. They are defined within a class but outside of any methods.\n",
    "\n",
    "#### 3.2. Defining Class Attributes\n",
    "Class attributes are defined directly beneath the class header and outside of any methods. These attributes are not tied to any specific instance of the class."
   ]
  },
  {
   "cell_type": "code",
   "execution_count": null,
   "metadata": {},
   "outputs": [],
   "source": [
    "class MyClass:\n",
    "    class_attribute = 0\n",
    "    def __init__(self, number):\n",
    "        self.instance_attribute = number"
   ]
  },
  {
   "cell_type": "markdown",
   "metadata": {},
   "source": [
    "#### 3.3. Accessing Class Attributes\n",
    "Class attributes can be accessed using the class name or an instance of the class."
   ]
  },
  {
   "cell_type": "code",
   "execution_count": null,
   "metadata": {},
   "outputs": [],
   "source": [
    "print(MyClass.class_attribute)\n",
    "\n",
    "x = MyClass(9)\n",
    "print(x.class_attribute,  x.instance_attribute)\n",
    "y = MyClass(19)\n",
    "print(y.class_attribute,  y.instance_attribute)\n"
   ]
  },
  {
   "cell_type": "markdown",
   "metadata": {},
   "source": [
    "#### 3.4. Modifying Class Attributes\n",
    "When you modify a class attribute, the change impacts all instances of the class."
   ]
  },
  {
   "cell_type": "code",
   "execution_count": null,
   "metadata": {},
   "outputs": [],
   "source": [
    "# Modify class attribute\n",
    "MyClass.class_attribute =19\n",
    "print(MyClass.class_attribute)\n",
    "print(x.class_attribute,  x.instance_attribute)\n",
    "print(y.class_attribute,  y.instance_attribute)\n"
   ]
  },
  {
   "cell_type": "markdown",
   "metadata": {},
   "source": [
    "#### Class Attributes Usage for counting the number of instances"
   ]
  },
  {
   "cell_type": "code",
   "execution_count": 1,
   "metadata": {},
   "outputs": [],
   "source": [
    "class MyClass: \n",
    "    count = 0                            \n",
    "    def __init__(self, number): \n",
    "        self.__class__.count += 1\n",
    "        self.instance_attribute = number        "
   ]
  },
  {
   "cell_type": "code",
   "execution_count": null,
   "metadata": {},
   "outputs": [],
   "source": [
    "x = MyClass(9)\n",
    "print(x.count,  x.instance_attribute)\n",
    "y = MyClass(10)\n",
    "print(y.count,  y.instance_attribute)\n",
    "z = MyClass(11)\n",
    "print(z.count,  z.instance_attribute)\n"
   ]
  },
  {
   "cell_type": "markdown",
   "metadata": {},
   "source": [
    "### 4. A Class  Destructor\n",
    "In Python, a destructor is a method that is called when an object is about to be destroyed. The destructor method in Python is __del__(). It is not as commonly used as in some other programming languages because Python has a garbage collector that handles memory management automatically. However, it can be useful in some cases, especially for releasing external resources.\n",
    "#### Step 1: Defining the Class with a Destructor\n",
    "First, you define a class and include the __del__ method in it. This method will be automatically invoked when the object is about to be destroyed."
   ]
  },
  {
   "cell_type": "code",
   "execution_count": 3,
   "metadata": {},
   "outputs": [],
   "source": [
    "class MyClass:\n",
    "    def __init__(self):\n",
    "        print(\"Constructor Called: Object created\")\n",
    "\n",
    "    def __del__(self):\n",
    "        print(\"Destructor Called: Object destroyed\")"
   ]
  },
  {
   "cell_type": "markdown",
   "metadata": {},
   "source": []
  },
  {
   "cell_type": "code",
   "execution_count": 4,
   "metadata": {},
   "outputs": [
    {
     "name": "stdout",
     "output_type": "stream",
     "text": [
      "Constructor Called: Object created\n",
      "Destructor Called: Object destroyed\n"
     ]
    }
   ],
   "source": [
    "x = MyClass()\n",
    "del(x)"
   ]
  },
  {
   "cell_type": "markdown",
   "metadata": {},
   "source": [
    "#### Step 2: A Destructor Usage"
   ]
  },
  {
   "cell_type": "code",
   "execution_count": 5,
   "metadata": {},
   "outputs": [],
   "source": [
    "class MyClass: \n",
    "    count = 0                            \n",
    "    def __init__(self, number): \n",
    "        self.__class__.count += 1\n",
    "        self.instance_attribute = number\n",
    "    def __del__(self):\n",
    "        self.__class__.count -= 1\n",
    "    "
   ]
  },
  {
   "cell_type": "markdown",
   "metadata": {},
   "source": []
  },
  {
   "cell_type": "code",
   "execution_count": null,
   "metadata": {},
   "outputs": [],
   "source": [
    "x = MyClass(9)\n",
    "print(MyClass.count)\n",
    "y = MyClass(10)\n",
    "print(MyClass.count)\n",
    "z = MyClass(11)\n",
    "print(MyClass.count)\n",
    "del(y)\n",
    "print(MyClass.count)"
   ]
  }
 ],
 "metadata": {
  "kernelspec": {
   "display_name": "vision",
   "language": "python",
   "name": "python3"
  },
  "language_info": {
   "codemirror_mode": {
    "name": "ipython",
    "version": 3
   },
   "file_extension": ".py",
   "mimetype": "text/x-python",
   "name": "python",
   "nbconvert_exporter": "python",
   "pygments_lexer": "ipython3",
   "version": "3.7.9"
  }
 },
 "nbformat": 4,
 "nbformat_minor": 2
}
