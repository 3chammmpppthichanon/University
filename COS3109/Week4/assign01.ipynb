{
 "cells": [
  {
   "cell_type": "markdown",
   "metadata": {},
   "source": [
    "## 1\n",
    "ให้นักศึกษาสร้างสายอักขระ (string) จากลิสต์รายการข้อมูล 2 รายการ ดังตัวอย่างด้านล่างต่อไปนี้\n",
    "ข้อมูลเข้า\n",
    "L0 = ['Th', 'i', 'm', 'bo']\n",
    "L1 = ['is', 's', 'y', 'ok']\n",
    "ผลลัพธ์\n",
    "This is my book"
   ]
  },
  {
   "cell_type": "code",
   "execution_count": null,
   "metadata": {},
   "outputs": [],
   "source": []
  },
  {
   "cell_type": "markdown",
   "metadata": {},
   "source": [
    "## 2 \n",
    "ให้นักศึกษาใช้ลิสต์ข้อมูลเริ่มต้น L0 ในการสร้าง L1 คือ ลิสต์ของซับลิสต์ ซึ่งมีผลลัพธ์ดังรูปด้านล่าง\n",
    "ข้อมูลเข้า\n",
    "L0 = [1, 2, 3, 4, 5, 6, 7]\n",
    "ผลลัพธ์\n",
    "L1 = [[1], [1, 2], [1, 2, 3], [1, 2, 3, 4], [1, 2, 3, 4, 5], [1, 2, 3, 4, 5, 6], [1, 2, 3, 4, 5, 6, 7]]"
   ]
  },
  {
   "cell_type": "code",
   "execution_count": null,
   "metadata": {},
   "outputs": [],
   "source": []
  },
  {
   "cell_type": "markdown",
   "metadata": {},
   "source": [
    "## 3\n",
    "ให้นักศึกษาสร้างสายอักขระ (string) จากลิสต์ข้อมูล 2 รายการ ดังตัวอย่างด้านล่างต่อไปนี้\n",
    "ข้อมูลเข้า\n",
    "L0 = ['Hello', 'Sawatdee']\n",
    "L1 = ['Somsak', 'Somsri', 'Sompong', 'Sompop']\n",
    "ผลลัพธ์ สายอักขระ\n",
    "'Hello Somsak', 'Hello Somsri', 'Hello Sompong', 'Hello Sompop', 'Sawatdee Somsak', 'Sawatdee Somsri', 'Sawatdee Sompong', 'Sawatdee Sompop',"
   ]
  },
  {
   "cell_type": "code",
   "execution_count": null,
   "metadata": {},
   "outputs": [],
   "source": []
  },
  {
   "cell_type": "markdown",
   "metadata": {},
   "source": [
    "## 4\n",
    "ห้นักศึกษาเขียนชุดคำสั่งในการเข้าถึงข้อมูลใน 2 รายการข้อมูล คือ L0, L1 และแสดงผลข้อมูลดังต่อไปนี้\n",
    "ข้อมูลเข้า\n",
    "L0 = [10, 20, 30, 40]\n",
    "L1 = [50, 60, 70, 80]\n",
    "ผลลัพธ์\n",
    "10 80\n",
    "20 50\n",
    "30 60\n",
    "40 70"
   ]
  },
  {
   "cell_type": "code",
   "execution_count": null,
   "metadata": {},
   "outputs": [],
   "source": []
  },
  {
   "cell_type": "markdown",
   "metadata": {},
   "source": [
    "## 5\n",
    "ให้นักศึกษาเขียนชุดคำสั่งในการลบคำซ้ำในสายอักขระต่อไปนี้\n",
    "ข้อมูลเข้า\n",
    "msg = 'This is a book This is a pencil This is my car'\n",
    "ผลลัพธ์ สายอักขระ\n",
    "This is a book pencil my car"
   ]
  }
 ],
 "metadata": {
  "kernelspec": {
   "display_name": "Python 3.9.0 64-bit",
   "language": "python",
   "name": "python3"
  },
  "language_info": {
   "name": "python",
   "version": "3.9.0"
  },
  "orig_nbformat": 4,
  "vscode": {
   "interpreter": {
    "hash": "aee8b7b246df8f9039afb4144a1f6fd8d2ca17a180786b69acc140d282b71a49"
   }
  }
 },
 "nbformat": 4,
 "nbformat_minor": 2
}
