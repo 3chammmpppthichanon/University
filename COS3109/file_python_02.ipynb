{
 "cells": [
  {
   "cell_type": "markdown",
   "metadata": {},
   "source": [
    "## Delete a \n",
    "To delete a file, you must import the OS module, and run its os.remove() function:"
   ]
  },
  {
   "cell_type": "markdown",
   "metadata": {},
   "source": [
    "## Check if File exist:\n",
    "To avoid getting an error, you might want to check if the file exists before you try to delete it:"
   ]
  },
  {
   "cell_type": "code",
   "execution_count": 1,
   "metadata": {},
   "outputs": [],
   "source": [
    "import os\n",
    "if os.path.exists(\"test_write_2.txt\"):\n",
    "  os.remove(\"test_write_2.txt\")\n",
    "else:\n",
    "  print(\"The file does not exist\")"
   ]
  },
  {
   "cell_type": "code",
   "execution_count": 10,
   "metadata": {},
   "outputs": [
    {
     "name": "stdout",
     "output_type": "stream",
     "text": [
      "<class 'PermissionError'> Permission denied\n",
      "False\n"
     ]
    }
   ],
   "source": [
    "try:\n",
    "    fp = open(\"test_e.txt\", \"a\")\n",
    "    print(fp.writable())\n",
    "except Exception as e:\n",
    "    print(e.__class__,e.args[1])\n",
    "finally:\n",
    "    fp.close()"
   ]
  },
  {
   "cell_type": "code",
   "execution_count": 1,
   "metadata": {},
   "outputs": [
    {
     "name": "stdout",
     "output_type": "stream",
     "text": [
      "*** Computer Book List ***\n",
      "Add new book.\n",
      " Title: Python Programming\n",
      " Price: 350\n",
      " Amount: 2\n",
      "Add new book.\n",
      " Title: Data Science Fundamental \n",
      " Price: 450\n",
      " Amount: 2\n",
      "Add new book.\n",
      " Title: Deep Learning\n",
      " Price: 520\n",
      " Amount: 1\n"
     ]
    }
   ],
   "source": [
    "Header = '*** Computer Book List ***'\n",
    "print(Header)\n",
    "with open( 'Books.txt', 'w', encoding =\"utf-8\" ) as fp: \n",
    "    fp.write( Header + '\\n' )\n",
    "    fp.write( '{:<25s}{:<10s}{:s}\\n'.format('Title', 'Price', 'Amount') )\n",
    "    for i in range(3):\n",
    "        print( 'Add new book.' )\n",
    "        title = input( ' Title: ' )\n",
    "        price = float( input( ' Price: ' ) )\n",
    "        amount = int( input( ' Amount: ' ) )\n",
    "        fp.write( '{:<25s}{:<10.2f}{:<5d}\\n'.format( title, price, amount ) )"
   ]
  },
  {
   "cell_type": "code",
   "execution_count": null,
   "metadata": {},
   "outputs": [],
   "source": []
  }
 ],
 "metadata": {
  "kernelspec": {
   "display_name": "Python 3 (ipykernel)",
   "language": "python",
   "name": "python3"
  },
  "language_info": {
   "codemirror_mode": {
    "name": "ipython",
    "version": 3
   },
   "file_extension": ".py",
   "mimetype": "text/x-python",
   "name": "python",
   "nbconvert_exporter": "python",
   "pygments_lexer": "ipython3",
   "version": "3.7.9 (tags/v3.7.9:13c94747c7, Aug 17 2020, 18:58:18) [MSC v.1900 64 bit (AMD64)]"
  },
  "vscode": {
   "interpreter": {
    "hash": "9f055534beaa1c61978814c8218b557463786b9ca0b8575a7fe0ee63d5b97ae4"
   }
  }
 },
 "nbformat": 4,
 "nbformat_minor": 2
}
